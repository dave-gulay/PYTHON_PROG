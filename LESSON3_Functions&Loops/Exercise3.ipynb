{
 "cells": [
  {
   "cell_type": "markdown",
   "id": "eb9c258e-207b-4f45-8b31-bd2b4bbe211e",
   "metadata": {},
   "source": [
    "# Review Question 1"
   ]
  },
  {
   "cell_type": "code",
   "execution_count": 1,
   "id": "47a441c5-266a-432a-8451-74743bd9bd2e",
   "metadata": {},
   "outputs": [
    {
     "name": "stdout",
     "output_type": "stream",
     "text": [
      "1000\n",
      "1331\n",
      "1728\n"
     ]
    }
   ],
   "source": [
    "def cube(num):\n",
    "    return num ** 3\n",
    "\n",
    "print(cube(10))\n",
    "print(cube(11))\n",
    "print(cube(12))"
   ]
  },
  {
   "cell_type": "code",
   "execution_count": 6,
   "id": "7f5d8307-ebb7-4d96-88a8-bacc2badcfcc",
   "metadata": {},
   "outputs": [
    {
     "name": "stdin",
     "output_type": "stream",
     "text": [
      "Enter your name:  dave\n"
     ]
    },
    {
     "name": "stdout",
     "output_type": "stream",
     "text": [
      "Hello dave!\n"
     ]
    }
   ],
   "source": [
    "def greet(name):\n",
    "    print(f\"Hello {name}!\")\n",
    "\n",
    "name = input(\"Enter your name: \")\n",
    "greet(name)\n",
    "    "
   ]
  },
  {
   "cell_type": "markdown",
   "id": "77da7c28-f70a-4a41-9f75-c2ef0f2d48f8",
   "metadata": {},
   "source": [
    "# Review Question 2 (Challenge)"
   ]
  },
  {
   "cell_type": "code",
   "execution_count": 43,
   "id": "8a884110-e50c-4355-9c6e-2c8cee386685",
   "metadata": {},
   "outputs": [
    {
     "name": "stdin",
     "output_type": "stream",
     "text": [
      "Enter a temperature in degrees C:  37\n"
     ]
    },
    {
     "name": "stdout",
     "output_type": "stream",
     "text": [
      "37 degrees C = 98.60 degrees F\n"
     ]
    }
   ],
   "source": [
    "def convert_cel_to_far(cel):\n",
    "    return (cel * 9/5) + 32\n",
    "\n",
    "cel  = float(input(\"Enter a temperature in degrees C: \"))\n",
    "far = convert_cel_to_far(cel)\n",
    "\n",
    "print(f\"{cel:.0f} degrees C = {far:.2f} degrees F\")"
   ]
  },
  {
   "cell_type": "code",
   "execution_count": 44,
   "id": "07c4e2f8-5b43-4586-b83f-cef58c1c4464",
   "metadata": {},
   "outputs": [
    {
     "name": "stdin",
     "output_type": "stream",
     "text": [
      "Enter a temperature in degrees F:  72\n"
     ]
    },
    {
     "name": "stdout",
     "output_type": "stream",
     "text": [
      "72 degrees F = 22.22 degrees C\n"
     ]
    }
   ],
   "source": [
    "def convert_far_to_cel(far):\n",
    "    return (far - 32) * 5/9\n",
    "\n",
    "far = float(input(\"Enter a temperature in degrees F: \"))\n",
    "cel = convert_far_to_cel(far)\n",
    "\n",
    "print(f\"{far:.0f} degrees F = {cel:.2f} degrees C\")"
   ]
  },
  {
   "cell_type": "markdown",
   "id": "6b3a62ed-8831-4ba8-9eb3-2c0a5ba0d40c",
   "metadata": {},
   "source": [
    "# Review Question 3"
   ]
  },
  {
   "cell_type": "code",
   "execution_count": 48,
   "id": "a21b03b8-2b44-4f27-a10f-45a17276b64d",
   "metadata": {},
   "outputs": [
    {
     "name": "stdout",
     "output_type": "stream",
     "text": [
      "2\n",
      "3\n",
      "4\n",
      "5\n",
      "6\n",
      "7\n",
      "8\n",
      "9\n",
      "10\n"
     ]
    }
   ],
   "source": [
    "for n in range(2, 11):\n",
    "    print(n)"
   ]
  },
  {
   "cell_type": "code",
   "execution_count": 51,
   "id": "f90d374b-d581-4323-b4ea-561f52d2143c",
   "metadata": {},
   "outputs": [
    {
     "name": "stdout",
     "output_type": "stream",
     "text": [
      "2\n",
      "3\n",
      "4\n",
      "5\n",
      "6\n",
      "7\n",
      "8\n",
      "9\n",
      "10\n"
     ]
    }
   ],
   "source": [
    "num = 2\n",
    "while num <= 10:\n",
    "    print(num)\n",
    "    num += 1"
   ]
  },
  {
   "cell_type": "code",
   "execution_count": 55,
   "id": "32f02193-b7c7-47ed-bddb-53798b26fb37",
   "metadata": {},
   "outputs": [
    {
     "name": "stdout",
     "output_type": "stream",
     "text": [
      "4\n",
      "8\n",
      "16\n"
     ]
    }
   ],
   "source": [
    "def doubles(num):\n",
    "    return num * 2\n",
    "\n",
    "num = 2\n",
    "for n in range(3):\n",
    "    num = doubles(num)\n",
    "    print(num)"
   ]
  },
  {
   "cell_type": "code",
   "execution_count": null,
   "id": "bf1ca5c9-c987-45e1-aaef-f1c5a94aa700",
   "metadata": {},
   "outputs": [],
   "source": []
  }
 ],
 "metadata": {
  "kernelspec": {
   "display_name": "Python [conda env:base] *",
   "language": "python",
   "name": "conda-base-py"
  },
  "language_info": {
   "codemirror_mode": {
    "name": "ipython",
    "version": 3
   },
   "file_extension": ".py",
   "mimetype": "text/x-python",
   "name": "python",
   "nbconvert_exporter": "python",
   "pygments_lexer": "ipython3",
   "version": "3.13.5"
  }
 },
 "nbformat": 4,
 "nbformat_minor": 5
}
