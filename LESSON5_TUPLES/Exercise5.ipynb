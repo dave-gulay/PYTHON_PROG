{
 "cells": [
  {
   "cell_type": "markdown",
   "id": "6783887f-f2f0-4e70-8e20-52a8c98e8674",
   "metadata": {},
   "source": [
    "# Review Question 1"
   ]
  },
  {
   "cell_type": "code",
   "execution_count": 1,
   "id": "b427e16a-4f74-4fec-ac51-6e3236568e55",
   "metadata": {},
   "outputs": [],
   "source": [
    "cardinal_numbers = [\"First\", \"Second\", \"Third\"]"
   ]
  },
  {
   "cell_type": "code",
   "execution_count": 6,
   "id": "c57f8aea-79d2-4325-9e24-d85aa3b1ccd5",
   "metadata": {},
   "outputs": [
    {
     "name": "stdout",
     "output_type": "stream",
     "text": [
      "Second\n"
     ]
    }
   ],
   "source": [
    "print(cardinal_numbers[1])"
   ]
  },
  {
   "cell_type": "code",
   "execution_count": 8,
   "id": "424e60d3-aea6-4221-b0f4-bac612b09a26",
   "metadata": {},
   "outputs": [
    {
     "name": "stdout",
     "output_type": "stream",
     "text": [
      "First\n",
      "Second\n",
      "Third\n"
     ]
    }
   ],
   "source": [
    "position1, position2, position3 = cardinal_numbers\n",
    "print(position1)  \n",
    "print(position2)  \n",
    "print(position3)"
   ]
  },
  {
   "cell_type": "code",
   "execution_count": 9,
   "id": "ced8cc5b-af6e-4d85-a6c1-358d3351b043",
   "metadata": {},
   "outputs": [
    {
     "name": "stdout",
     "output_type": "stream",
     "text": [
      "('D', 'a', 'v', 'e')\n"
     ]
    }
   ],
   "source": [
    "my_name = tuple(\"Dave\")\n",
    "print(my_name)"
   ]
  },
  {
   "cell_type": "code",
   "execution_count": 10,
   "id": "74e58961-dbc6-4e2e-bd14-1f7d9a5cc9a9",
   "metadata": {},
   "outputs": [
    {
     "name": "stdout",
     "output_type": "stream",
     "text": [
      "False\n"
     ]
    }
   ],
   "source": [
    "print(\"X\" in my_name)"
   ]
  },
  {
   "cell_type": "code",
   "execution_count": 16,
   "id": "a8be5b0e-f8a1-461e-94c4-8297cbc15f25",
   "metadata": {},
   "outputs": [
    {
     "name": "stdout",
     "output_type": "stream",
     "text": [
      "('a', 'v', 'e')\n"
     ]
    }
   ],
   "source": [
    "new_tuple = my_name[1:]\n",
    "print(new_tuple)"
   ]
  },
  {
   "cell_type": "markdown",
   "id": "7fab0d37-07b6-4ecb-8f9a-7474fd7f2acb",
   "metadata": {},
   "source": [
    "# Review Question 2"
   ]
  },
  {
   "cell_type": "code",
   "execution_count": 17,
   "id": "d32ee9e2-d94f-4e88-97b8-32dcc5c303fd",
   "metadata": {},
   "outputs": [],
   "source": [
    "food = [\"Rice\",\"Beans\"]"
   ]
  },
  {
   "cell_type": "code",
   "execution_count": 18,
   "id": "a0d8e644-23db-4f85-b1bd-849b60a098da",
   "metadata": {},
   "outputs": [],
   "source": [
    "food.append(\"Broccoli\")"
   ]
  },
  {
   "cell_type": "code",
   "execution_count": 19,
   "id": "be93097f-b7df-48c4-88bc-10384ef722f9",
   "metadata": {},
   "outputs": [],
   "source": [
    "food.extend([\"Bread\",\"Pizza\"])"
   ]
  },
  {
   "cell_type": "code",
   "execution_count": 24,
   "id": "ed2a8708-33ae-4b9c-ab2c-e41154fefe41",
   "metadata": {},
   "outputs": [
    {
     "name": "stdout",
     "output_type": "stream",
     "text": [
      "['Rice', 'Beans']\n"
     ]
    }
   ],
   "source": [
    "print(food[:2])"
   ]
  },
  {
   "cell_type": "code",
   "execution_count": 25,
   "id": "0c53989a-4efe-453e-ad51-20c54d1a7e3f",
   "metadata": {},
   "outputs": [
    {
     "name": "stdout",
     "output_type": "stream",
     "text": [
      "Pizza\n"
     ]
    }
   ],
   "source": [
    "print(food[-1])"
   ]
  },
  {
   "cell_type": "code",
   "execution_count": 26,
   "id": "32fddb35-2b6c-43cd-b30b-fce5e9bbe1d3",
   "metadata": {},
   "outputs": [
    {
     "name": "stdout",
     "output_type": "stream",
     "text": [
      "['Eggs', 'Fruit', 'Orange Juice']\n"
     ]
    }
   ],
   "source": [
    "breakfast = \"Eggs, Fruit, Orange Juice\".split(\", \")\n",
    "print(breakfast)"
   ]
  },
  {
   "cell_type": "code",
   "execution_count": 29,
   "id": "883c5ee8-c2b1-477c-8f8d-11de77516689",
   "metadata": {},
   "outputs": [
    {
     "name": "stdout",
     "output_type": "stream",
     "text": [
      "3\n"
     ]
    }
   ],
   "source": [
    "print(len(breakfast))"
   ]
  },
  {
   "cell_type": "code",
   "execution_count": 30,
   "id": "854f2c36-1848-4d2f-befb-3e20056625e5",
   "metadata": {},
   "outputs": [
    {
     "name": "stdout",
     "output_type": "stream",
     "text": [
      "[4, 5, 12]\n"
     ]
    }
   ],
   "source": [
    "lengths = [len(i) for i in breakfast]\n",
    "print(lengths)"
   ]
  },
  {
   "cell_type": "markdown",
   "id": "b42cd97a-928f-4f61-84d5-7b64c3b3136c",
   "metadata": {},
   "source": [
    "# Review Question 3"
   ]
  },
  {
   "cell_type": "code",
   "execution_count": 31,
   "id": "8b3ecbe9-fcd3-4e73-91ef-9f87075da7df",
   "metadata": {},
   "outputs": [],
   "source": [
    "data = ([1, 2], [3, 4])"
   ]
  },
  {
   "cell_type": "code",
   "execution_count": 32,
   "id": "a800bb49-71a9-4d22-8d5d-2b9b2dd842b3",
   "metadata": {},
   "outputs": [
    {
     "name": "stdout",
     "output_type": "stream",
     "text": [
      "3\n",
      "7\n"
     ]
    }
   ],
   "source": [
    "for tup in data:\n",
    "    print(sum(tup))"
   ]
  },
  {
   "cell_type": "code",
   "execution_count": 33,
   "id": "94458c5f-63ad-4c44-a38a-be5aea994726",
   "metadata": {},
   "outputs": [
    {
     "name": "stdout",
     "output_type": "stream",
     "text": [
      "[4, 2, 9, 1, 5]\n"
     ]
    }
   ],
   "source": [
    "numbers = [4, 2, 9, 1, 5]\n",
    "numbers_copy = numbers[:]\n",
    "print(numbers_copy)"
   ]
  },
  {
   "cell_type": "code",
   "execution_count": 34,
   "id": "7f1b8eca-a4e0-4dab-a376-5f9cfaa82da5",
   "metadata": {},
   "outputs": [
    {
     "name": "stdout",
     "output_type": "stream",
     "text": [
      "[1, 2, 4, 5, 9]\n"
     ]
    }
   ],
   "source": [
    "numbers.sort()\n",
    "print(numbers)"
   ]
  },
  {
   "cell_type": "markdown",
   "id": "a7020e2e-51b0-488a-8616-597a9d9529e2",
   "metadata": {},
   "source": [
    "# Challenge: List of Lists"
   ]
  },
  {
   "cell_type": "code",
   "execution_count": 35,
   "id": "f46bd59c-1d4d-426d-9b00-e2823f2c2358",
   "metadata": {},
   "outputs": [],
   "source": [
    "universities = [\n",
    "    ['California Institute of Technology', 2175, 37704],\n",
    "    ['Harvard', 19627, 39849],\n",
    "    ['Massachusetts Institute of Technology', 10566, 40732],\n",
    "    ['Princeton', 7802, 37000],\n",
    "    ['Rice', 5879, 35551],\n",
    "    ['Stanford', 19535, 40569],\n",
    "    ['Yale', 11701, 40500]\n",
    "]"
   ]
  },
  {
   "cell_type": "code",
   "execution_count": 36,
   "id": "16b83ddd-f497-49fa-ac04-efcde9edb735",
   "metadata": {},
   "outputs": [
    {
     "name": "stdout",
     "output_type": "stream",
     "text": [
      "California Institute of Technology: Enrollment = 2175, Tuition = $37704\n",
      "Harvard: Enrollment = 19627, Tuition = $39849\n",
      "Massachusetts Institute of Technology: Enrollment = 10566, Tuition = $40732\n",
      "Princeton: Enrollment = 7802, Tuition = $37000\n",
      "Rice: Enrollment = 5879, Tuition = $35551\n",
      "Stanford: Enrollment = 19535, Tuition = $40569\n",
      "Yale: Enrollment = 11701, Tuition = $40500\n"
     ]
    }
   ],
   "source": [
    "for uni in universities:\n",
    "    name, enrollment, tuition = uni\n",
    "    print(f\"{name}: Enrollment = {enrollment}, Tuition = ${tuition}\")"
   ]
  },
  {
   "cell_type": "markdown",
   "id": "93629136-cdb9-4b17-a2bd-ac9a5bee8759",
   "metadata": {},
   "source": [
    "# Challenge: Wax Poetic"
   ]
  },
  {
   "cell_type": "code",
   "execution_count": 43,
   "id": "242e61b9-28ef-4e17-947e-afef7bb9dbc8",
   "metadata": {},
   "outputs": [
    {
     "name": "stdout",
     "output_type": "stream",
     "text": [
      "NOUNS: ['FOSSIL', 'HORSE', 'AARDVARK', 'JUDGE', 'CHEF', 'MANGO', 'EXTROVERT', 'GORILLA']\n",
      "VERBS: ['KICKS', 'JINGLES', 'BOUNCES', 'SLURPS', 'MEOWS', 'EXPLODES', 'CURDLES']\n",
      "ADJECTIVES: ['FURRY', 'BALDING', 'INCREDULOUS', 'FRAGRANT', 'EXUBERANT', 'GLISTENING']\n",
      "PREPOSITIONS: ['AGAINST', 'AFTER', 'INTO', 'BENEATH', 'UPON', 'FOR', 'IN', 'LIKE', 'OVER', 'WITHIN']\n",
      "ADVERBS: ['CURIOUSLY', 'FURIOUSLY', 'SENSUOUSLY', 'EXTRAVAGANTLY', 'TANTALIZINGLY']\n"
     ]
    }
   ],
   "source": [
    "# Define the word lists\n",
    "nouns = [\"FOSSIL\", \"HORSE\", \"AARDVARK\", \"JUDGE\", \"CHEF\",\n",
    "\"MANGO\", \"EXTROVERT\", \"GORILLA\"]\n",
    "\n",
    "\n",
    "verbs = [\"KICKS\", \"JINGLES\", \"BOUNCES\", \"SLURPS\",\n",
    "\"MEOWS\", \"EXPLODES\", \"CURDLES\"]\n",
    "\n",
    "\n",
    "adjectives = [\"FURRY\", \"BALDING\", \"INCREDULOUS\", \"FRAGRANT\",\n",
    "\"EXUBERANT\", \"GLISTENING\"]\n",
    "\n",
    "\n",
    "prepositions = [\"AGAINST\", \"AFTER\", \"INTO\", \"BENEATH\", \"UPON\",\n",
    "\"FOR\", \"IN\", \"LIKE\", \"OVER\", \"WITHIN\"]\n",
    "\n",
    "\n",
    "adverbs = [\"CURIOUSLY\", \"FURIOUSLY\", \"SENSUOUSLY\",\n",
    "\"EXTRAVAGANTLY\", \"TANTALIZINGLY\"]\n",
    "\n",
    "word_types = {\n",
    "\"NOUNS\": nouns,\n",
    "\"VERBS\": verbs,\n",
    "\"ADJECTIVES\": adjectives,\n",
    "\"PREPOSITIONS\": prepositions,\n",
    "\"ADVERBS\": adverbs\n",
    "}\n",
    "\n",
    "for category, words in word_types.items():\n",
    "    print(f\"{category}: {words}\")"
   ]
  },
  {
   "cell_type": "markdown",
   "id": "31ed3b9c-ae1b-4adb-bb4c-142503f53182",
   "metadata": {},
   "source": [
    "# Review Exercise 4"
   ]
  },
  {
   "cell_type": "code",
   "execution_count": 44,
   "id": "c3f53cfb-e18f-4921-a215-c0cf5acef8d5",
   "metadata": {},
   "outputs": [],
   "source": [
    "Captain = {}"
   ]
  },
  {
   "cell_type": "code",
   "execution_count": 45,
   "id": "335dc03b-794a-4dda-9827-fc4bdb301bac",
   "metadata": {},
   "outputs": [],
   "source": [
    "Captain[\"Enterprise\"] = \"Picard\"\n",
    "Captain[\"Voyager\"] = \"Janeway\"\n",
    "Captain[\"Defiant\"] = \"Sisko\""
   ]
  },
  {
   "cell_type": "code",
   "execution_count": 46,
   "id": "208d0c5d-82c1-4b75-9101-13295e3726fe",
   "metadata": {},
   "outputs": [],
   "source": [
    "if \"Enterprise\" not in Captain:\n",
    "    Captain[\"Enterprise\"] = \"Unknown\"\n",
    "if \"Discovery\" not in Captain:\n",
    "    Captain[\"Discovery\"] = \"Unknown\""
   ]
  },
  {
   "cell_type": "code",
   "execution_count": 47,
   "id": "4e8d6e50-736a-494c-809d-b90e2fc47558",
   "metadata": {},
   "outputs": [
    {
     "name": "stdout",
     "output_type": "stream",
     "text": [
      "The Enterprise is captained by Picard\n",
      "The Voyager is captained by Janeway\n",
      "The Defiant is captained by Sisko\n",
      "The Discovery is captained by Unknown\n"
     ]
    }
   ],
   "source": [
    "for ship, captain in Captain.items():\n",
    "    print(f\"The {ship} is captained by {captain}\")"
   ]
  },
  {
   "cell_type": "code",
   "execution_count": 48,
   "id": "ab990030-eb8a-4c18-b53c-0418cb9f7615",
   "metadata": {},
   "outputs": [],
   "source": [
    "del Captain[\"Discovery\"]"
   ]
  },
  {
   "cell_type": "code",
   "execution_count": 49,
   "id": "31e4208f-2cfd-4bbb-b3d7-139c3d857b45",
   "metadata": {},
   "outputs": [],
   "source": [
    "Captain2 = dict(Captain)"
   ]
  },
  {
   "cell_type": "markdown",
   "id": "2b9a0571-452c-40e5-b9a5-620445d60dec",
   "metadata": {},
   "source": [
    "# Challenge Capital City Loop"
   ]
  },
  {
   "cell_type": "code",
   "execution_count": 50,
   "id": "65f4869d-3493-4aa4-803e-6c3096dc2976",
   "metadata": {},
   "outputs": [
    {
     "name": "stdout",
     "output_type": "stream",
     "text": [
      "The Capital of the city Alabama is Montgomery\n",
      "The Capital of the city Alaska is Juneau\n",
      "The Capital of the city Arizona is Phoenix\n",
      "The Capital of the city Arkansas is Little Rock\n",
      "The Capital of the city California is Sacramento\n",
      "The Capital of the city Colorado is Denver\n",
      "The Capital of the city Connecticut is Hartford\n",
      "The Capital of the city Delaware is Dover\n",
      "The Capital of the city Florida is Tallahassee\n",
      "The Capital of the city Georgia is Atlanta\n"
     ]
    }
   ],
   "source": [
    "capitals_dict = {\n",
    "    \"Alabama\": \"Montgomery\",\n",
    "    \"Alaska\": \"Juneau\",\n",
    "    \"Arizona\": \"Phoenix\",\n",
    "    \"Arkansas\": \"Little Rock\",\n",
    "    \"California\": \"Sacramento\",\n",
    "    'California': 'Sacramento',\n",
    "    'Colorado': 'Denver',\n",
    "    'Connecticut': 'Hartford',\n",
    "    'Delaware': 'Dover',\n",
    "    'Florida': 'Tallahassee',\n",
    "    'Georgia': 'Atlanta',\n",
    "}\n",
    "for city, capital in capitals_dict.items():\n",
    "    print(f\"The Capital of the city {city} is {capital}\")"
   ]
  },
  {
   "cell_type": "code",
   "execution_count": null,
   "id": "a28ade9d-b077-4e26-ad27-8e8e7225e0d4",
   "metadata": {},
   "outputs": [],
   "source": []
  }
 ],
 "metadata": {
  "kernelspec": {
   "display_name": "Python [conda env:base] *",
   "language": "python",
   "name": "conda-base-py"
  },
  "language_info": {
   "codemirror_mode": {
    "name": "ipython",
    "version": 3
   },
   "file_extension": ".py",
   "mimetype": "text/x-python",
   "name": "python",
   "nbconvert_exporter": "python",
   "pygments_lexer": "ipython3",
   "version": "3.13.5"
  }
 },
 "nbformat": 4,
 "nbformat_minor": 5
}
