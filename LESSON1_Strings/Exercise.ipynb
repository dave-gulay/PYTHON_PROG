{
 "cells": [
  {
   "cell_type": "markdown",
   "id": "7ee76011-3eea-4507-a0e9-21284bbd3ace",
   "metadata": {},
   "source": [
    "# Review Question 1"
   ]
  },
  {
   "cell_type": "code",
   "execution_count": 1,
   "id": "9124081a-31f0-4d9d-87d0-679a152e2e15",
   "metadata": {},
   "outputs": [
    {
     "name": "stdout",
     "output_type": "stream",
     "text": [
      "9\n"
     ]
    }
   ],
   "source": [
    "string1 = \"Ana Conda\"\n",
    "print(len(string1))"
   ]
  },
  {
   "cell_type": "code",
   "execution_count": 2,
   "id": "206c428e-1405-4466-90d1-53919d5ee4e7",
   "metadata": {},
   "outputs": [
    {
     "name": "stdout",
     "output_type": "stream",
     "text": [
      "AnaConda\n"
     ]
    }
   ],
   "source": [
    "string1 = \"Ana\"\n",
    "string2 = \"Conda\"\n",
    "fullString = string1 + string2\n",
    "print(fullString)"
   ]
  },
  {
   "cell_type": "code",
   "execution_count": 7,
   "id": "988007f1-17f1-461c-8f01-41f0fd6f27b3",
   "metadata": {},
   "outputs": [
    {
     "name": "stdout",
     "output_type": "stream",
     "text": [
      "Ana Conda\n"
     ]
    }
   ],
   "source": [
    "string1 = \"Ana\"\n",
    "string2 = \"Conda\"\n",
    "fullString = string1 +\" \"+ string2\n",
    "print(fullString)"
   ]
  },
  {
   "cell_type": "code",
   "execution_count": 19,
   "id": "a61a1d2a-eb7d-4ebc-ad07-fabd81afcbb7",
   "metadata": {},
   "outputs": [
    {
     "name": "stdout",
     "output_type": "stream",
     "text": [
      "fox\n"
     ]
    }
   ],
   "source": [
    "string = \"The quick brown fox jumped over the lazy dog\"\n",
    "print(string[16:19])"
   ]
  },
  {
   "cell_type": "markdown",
   "id": "5d7e7a19-116b-4937-bb24-9e1ca943e065",
   "metadata": {},
   "source": [
    "# Review Question 2"
   ]
  },
  {
   "cell_type": "code",
   "execution_count": 8,
   "id": "cbb23710-12e5-4ae1-b9cc-09d5ac21d771",
   "metadata": {},
   "outputs": [
    {
     "name": "stdout",
     "output_type": "stream",
     "text": [
      "animals\n",
      "badger\n",
      "honey bee\n",
      "honeybadger\n"
     ]
    }
   ],
   "source": [
    "string1 = \"Animals\"\n",
    "string2 = \"Badger\"\n",
    "string3 = \"Honey Bee\"\n",
    "string4 = \"Honeybadger\"\n",
    "\n",
    "print(string1.lower())\n",
    "print(string2.lower())\n",
    "print(string3.lower())\n",
    "print(string4.lower())"
   ]
  },
  {
   "cell_type": "code",
   "execution_count": 10,
   "id": "b3850da1-4d47-4302-863b-aa9e1fbe3027",
   "metadata": {},
   "outputs": [
    {
     "name": "stdout",
     "output_type": "stream",
     "text": [
      "ANIMALS\n",
      "BADGER\n",
      "HONEY BEE\n",
      "HONEYBADGER\n"
     ]
    }
   ],
   "source": [
    "string1 = \"Animals\"\n",
    "string2 = \"Badger\"\n",
    "string3 = \"Honey Bee\"\n",
    "string4 = \"Honeybadger\"\n",
    "\n",
    "print(string1.upper())\n",
    "print(string2.upper())\n",
    "print(string3.upper())\n",
    "print(string4.upper())"
   ]
  },
  {
   "cell_type": "code",
   "execution_count": 18,
   "id": "db28db04-e294-42bf-8fef-304b7aa744ff",
   "metadata": {},
   "outputs": [
    {
     "name": "stdout",
     "output_type": "stream",
     "text": [
      "Filet Mignon\n",
      "Brisket\n"
     ]
    }
   ],
   "source": [
    "string1 = \" Filet Mignon\"\n",
    "string2 = \"Brisket \"\n",
    "\n",
    "string1_l = string1.lstrip()\n",
    "string2_r = string2.rstrip()\n",
    "\n",
    "print(string1_l)\n",
    "print(string2_r)"
   ]
  },
  {
   "cell_type": "code",
   "execution_count": 19,
   "id": "a64dc616-1d01-485a-804a-b833d2ca552c",
   "metadata": {},
   "outputs": [
    {
     "name": "stdout",
     "output_type": "stream",
     "text": [
      "False\n",
      "True\n"
     ]
    }
   ],
   "source": [
    "string1 = \"Becomes\"\n",
    "string2 = \"becomes\"\n",
    "\n",
    "print(string1.startswith(\"be\"))\n",
    "print(string2.startswith(\"be\"))"
   ]
  },
  {
   "cell_type": "code",
   "execution_count": 22,
   "id": "159d8c53-4573-4055-9bc8-1d697eaf736b",
   "metadata": {},
   "outputs": [
    {
     "name": "stdout",
     "output_type": "stream",
     "text": [
      "True\n",
      "True\n"
     ]
    }
   ],
   "source": [
    "string1 = \"Becomes\"\n",
    "string2 = \"becomes\"\n",
    "\n",
    "print(string1.lower().startswith(\"be\"))\n",
    "print(string2.lower().startswith(\"be\"))"
   ]
  },
  {
   "cell_type": "markdown",
   "id": "a5c2d1b6-d7e8-4189-b234-e34d5cb1abcf",
   "metadata": {},
   "source": [
    "# Review Question 3"
   ]
  },
  {
   "cell_type": "code",
   "execution_count": 23,
   "id": "38a13f84-d62a-47b0-a7f8-1399e0304ef0",
   "metadata": {},
   "outputs": [
    {
     "name": "stdin",
     "output_type": "stream",
     "text": [
      "Enter Name: Dave\n"
     ]
    },
    {
     "name": "stdout",
     "output_type": "stream",
     "text": [
      "Hi Dave\n"
     ]
    }
   ],
   "source": [
    "prompt = \"Enter Name:\"\n",
    "user_input = input(prompt)\n",
    "print(\"Hi\",user_input)"
   ]
  },
  {
   "cell_type": "code",
   "execution_count": 26,
   "id": "4becd21e-f7b7-43e1-b2d6-f75de518d176",
   "metadata": {},
   "outputs": [
    {
     "name": "stdin",
     "output_type": "stream",
     "text": [
      "Enter Name: DaVe\n"
     ]
    },
    {
     "name": "stdout",
     "output_type": "stream",
     "text": [
      "Hi dave\n"
     ]
    }
   ],
   "source": [
    "prompt = \"Enter Name:\"\n",
    "user_input = input(prompt)\n",
    "print(\"Hi\",user_input.lower())"
   ]
  },
  {
   "cell_type": "code",
   "execution_count": 28,
   "id": "d827f1ea-d5c2-46c2-a84c-50e8e9b01824",
   "metadata": {},
   "outputs": [
    {
     "name": "stdin",
     "output_type": "stream",
     "text": [
      "Enter Name: Dave\n"
     ]
    },
    {
     "name": "stdout",
     "output_type": "stream",
     "text": [
      "4\n"
     ]
    }
   ],
   "source": [
    "prompt = \"Enter Name:\"\n",
    "user_input = input(prompt)\n",
    "print(len(user_input))"
   ]
  },
  {
   "cell_type": "markdown",
   "id": "2d40f64f-de47-457b-82fb-13ee9d01cc50",
   "metadata": {},
   "source": [
    "# Review Question 4 \n"
   ]
  },
  {
   "cell_type": "code",
   "execution_count": 30,
   "id": "43a92fd0-b24b-4c4d-80ef-6d0e5239cf52",
   "metadata": {},
   "outputs": [
    {
     "name": "stdin",
     "output_type": "stream",
     "text": [
      "Tell me your name: dave\n"
     ]
    },
    {
     "name": "stdout",
     "output_type": "stream",
     "text": [
      "Dave\n"
     ]
    }
   ],
   "source": [
    "prompt = \"Tell me your name:\"\n",
    "user_input = input(prompt)\n",
    "\n",
    "first_letter = user_input[0].upper()\n",
    "\n",
    "print(first_letter + user_input[1:])"
   ]
  },
  {
   "cell_type": "markdown",
   "id": "38f53221-7b10-4f9c-9d59-4e12491e0c35",
   "metadata": {},
   "source": [
    "# Review Question 5"
   ]
  },
  {
   "cell_type": "code",
   "execution_count": 31,
   "id": "07d07fda-90af-4dad-abb2-824628acf0b2",
   "metadata": {},
   "outputs": [
    {
     "name": "stdout",
     "output_type": "stream",
     "text": [
      "4\n"
     ]
    }
   ],
   "source": [
    "num1 = \"2\"\n",
    "num2 = int(num1)\n",
    "\n",
    "print(num2 * 2)"
   ]
  },
  {
   "cell_type": "code",
   "execution_count": 32,
   "id": "a5e5a061-44df-4835-9a67-bd17b55cfa14",
   "metadata": {},
   "outputs": [
    {
     "name": "stdout",
     "output_type": "stream",
     "text": [
      "5.0\n"
     ]
    }
   ],
   "source": [
    "num1 = \"2.5\"\n",
    "num2 = float(num1)\n",
    "\n",
    "print(num2 * 2)"
   ]
  },
  {
   "cell_type": "code",
   "execution_count": 34,
   "id": "4bcfd3cf-f88e-4aa0-9fa9-d213831eb0f1",
   "metadata": {},
   "outputs": [
    {
     "name": "stdout",
     "output_type": "stream",
     "text": [
      "My class number is 19\n"
     ]
    }
   ],
   "source": [
    "string1 = \"My class number is \"\n",
    "num1 = 19\n",
    "\n",
    "print(string1 + str(num1))"
   ]
  },
  {
   "cell_type": "code",
   "execution_count": 39,
   "id": "49016476-22bf-468d-b87d-b290753223df",
   "metadata": {},
   "outputs": [
    {
     "name": "stdin",
     "output_type": "stream",
     "text": [
      "Enter first number:  8\n",
      "Enter second number:  8\n"
     ]
    },
    {
     "name": "stdout",
     "output_type": "stream",
     "text": [
      "\n",
      "8 * 8 =  64\n"
     ]
    }
   ],
   "source": [
    "prompt = \"Enter first number: \"\n",
    "num1 = input(prompt)\n",
    "prompt = \"Enter second number: \"\n",
    "num2 = input(prompt)\n",
    "\n",
    "print(\"\")\n",
    "print(num1+ \" * \" + num2 + \" = \", int(num1) * int(num2))"
   ]
  },
  {
   "cell_type": "markdown",
   "id": "791672a5-6a50-439b-a382-090073c3910b",
   "metadata": {},
   "source": [
    "# Review Question 6"
   ]
  },
  {
   "cell_type": "code",
   "execution_count": 42,
   "id": "58fc7dde-6644-44b1-91fa-5cee71ef35f9",
   "metadata": {},
   "outputs": [
    {
     "data": {
      "text/plain": [
       "-1"
      ]
     },
     "execution_count": 42,
     "metadata": {},
     "output_type": "execute_result"
    }
   ],
   "source": [
    "string = \"AAA\"\n",
    "string.find(\"a\")"
   ]
  },
  {
   "cell_type": "code",
   "execution_count": 43,
   "id": "0557c0f1-5d04-4175-884f-8eef8f4004d4",
   "metadata": {},
   "outputs": [
    {
     "data": {
      "text/plain": [
       "'Somebody yaid yomething to Samantha.'"
      ]
     },
     "execution_count": 43,
     "metadata": {},
     "output_type": "execute_result"
    }
   ],
   "source": [
    "string = \"Somebody said something to Samantha.\"\n",
    "string.replace(\"s\", \"y\")"
   ]
  },
  {
   "cell_type": "code",
   "execution_count": 53,
   "id": "1f4c514a-331b-4dd1-8caf-e51a2fe4b5e7",
   "metadata": {},
   "outputs": [
    {
     "name": "stdin",
     "output_type": "stream",
     "text": [
      "Enter a string:  nino dave\n",
      "Enter a letter to search for:  d\n"
     ]
    },
    {
     "name": "stdout",
     "output_type": "stream",
     "text": [
      "The letter 'd' was found at index 5.\n"
     ]
    }
   ],
   "source": [
    "user_text = input(\"Enter a string: \")\n",
    "\n",
    "letter = input(\"Enter a letter to search for: \")\n",
    "\n",
    "position = user_text.find(letter)\n",
    "\n",
    "if position != -1:\n",
    "    print(f\"The letter '{letter}' was found at index {position}.\")\n",
    "else:\n",
    "    print(f\"The letter '{letter}' was NOT found in the string.\")"
   ]
  },
  {
   "cell_type": "markdown",
   "id": "8234171c-cdcb-437e-b2b2-6d765a4f4839",
   "metadata": {},
   "source": [
    "# Review Question 7"
   ]
  },
  {
   "cell_type": "code",
   "execution_count": 84,
   "id": "a271fea3-50c3-4cfe-b71a-b899ea7669bf",
   "metadata": {},
   "outputs": [
    {
     "name": "stdin",
     "output_type": "stream",
     "text": [
      "Enter some text:  I like to eat some eggs and spam\n"
     ]
    },
    {
     "data": {
      "text/plain": [
       "'I like 7o ea7 some eggs and spam'"
      ]
     },
     "execution_count": 84,
     "metadata": {},
     "output_type": "execute_result"
    }
   ],
   "source": [
    "prompt = \"Enter some text: \"\n",
    "text = input(prompt)\n",
    "new_text = text.replace(\"a\", \"4\"),\n",
    "text.replace(\"b\", \"8\"),\n",
    "text.replace(\"e\", \"3\"),\n",
    "text.replace(\"l\", \"1\"),\n",
    "text.replace(\"o\", \"0\"),\n",
    "text.replace(\"s\", \"5\"),\n",
    "text.replace(\"t\", \"7\")"
   ]
  },
  {
   "cell_type": "code",
   "execution_count": null,
   "id": "b41aea52-b591-4a4e-bf6f-c829e0477216",
   "metadata": {},
   "outputs": [],
   "source": []
  }
 ],
 "metadata": {
  "kernelspec": {
   "display_name": "Python [conda env:base] *",
   "language": "python",
   "name": "conda-base-py"
  },
  "language_info": {
   "codemirror_mode": {
    "name": "ipython",
    "version": 3
   },
   "file_extension": ".py",
   "mimetype": "text/x-python",
   "name": "python",
   "nbconvert_exporter": "python",
   "pygments_lexer": "ipython3",
   "version": "3.13.5"
  }
 },
 "nbformat": 4,
 "nbformat_minor": 5
}
