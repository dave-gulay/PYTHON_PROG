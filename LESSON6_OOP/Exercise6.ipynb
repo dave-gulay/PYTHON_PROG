{
 "cells": [
  {
   "cell_type": "markdown",
   "id": "6241d3b2-1fbf-44bf-89f7-091515f545f6",
   "metadata": {},
   "source": [
    "# Review Question 1"
   ]
  },
  {
   "cell_type": "code",
   "execution_count": 2,
   "id": "63cff195-b536-431a-b015-34f174ea2208",
   "metadata": {},
   "outputs": [],
   "source": [
    "class Dog:\n",
    "    species = \"Canis familiaris\"\n",
    "    \n",
    "    def __init__(self, name, age, coat_color):\n",
    "        self.name = name\n",
    "        self.age = age\n",
    "        self.coat_color = coat_color\n",
    "        \n",
    "    def description(self):\n",
    "        return f\"{self.name} is {self.age} years old.\"\n",
    "    \n",
    "    def speak(self, sound):\n",
    "        return f\"{self.name} says {sound}.\"\n",
    "    \n",
    "    def coat_info(self):\n",
    "        return f\"{self.name} has a {self.coat_color} coat.\""
   ]
  },
  {
   "cell_type": "code",
   "execution_count": 6,
   "id": "b8719645-95b9-4f22-a818-fb7a18ab899a",
   "metadata": {},
   "outputs": [
    {
     "name": "stdout",
     "output_type": "stream",
     "text": [
      "Philo's coat is brown.\n"
     ]
    }
   ],
   "source": [
    "philo = Dog(\"Philo\", 5, \"brown\")\n",
    "print(f\"{philo.name}'s coat is {philo.coat_color}.\")"
   ]
  },
  {
   "cell_type": "code",
   "execution_count": 12,
   "id": "37028a4e-d6a5-4b3d-a35f-ea93dabe0107",
   "metadata": {},
   "outputs": [
    {
     "name": "stdout",
     "output_type": "stream",
     "text": [
      "The Blue car has 20000 miles.\n",
      "The Red car has 30000 miles.\n"
     ]
    }
   ],
   "source": [
    "class Car:\n",
    "    def __init__(self, color, mileage):\n",
    "        self.color = color\n",
    "        self.mileage = mileage\n",
    "\n",
    "car1 = Car(\"Blue\", 20000)\n",
    "car2 = Car(\"Red\", 30000)\n",
    "\n",
    "print(f\"The {car1.color} car has {car1.mileage} miles.\")\n",
    "print(f\"The {car2.color} car has {car2.mileage} miles.\")"
   ]
  },
  {
   "cell_type": "code",
   "execution_count": 17,
   "id": "1ddfe92a-bca5-4032-be33-2cae42f23302",
   "metadata": {},
   "outputs": [
    {
     "name": "stdout",
     "output_type": "stream",
     "text": [
      "100\n"
     ]
    }
   ],
   "source": [
    "class Car:\n",
    "    def __init__(self, color, mileage):\n",
    "        self.color = color\n",
    "        self.mileage = mileage\n",
    "\n",
    "    def drive(self, miles):\n",
    "        self.mileage += miles\n",
    "\n",
    "car = Car(\"Green\", 0)\n",
    "car.drive(100)\n",
    "print(car.mileage)"
   ]
  },
  {
   "cell_type": "markdown",
   "id": "ffc723bb-b488-4190-8a28-d9dbb5176b21",
   "metadata": {},
   "source": [
    "# Review Question 2"
   ]
  },
  {
   "cell_type": "code",
   "execution_count": 20,
   "id": "3a06877e-3dd5-4992-9cbd-d4e73fd6f054",
   "metadata": {},
   "outputs": [
    {
     "name": "stdout",
     "output_type": "stream",
     "text": [
      "Max says Bark\n"
     ]
    }
   ],
   "source": [
    "class Dog:\n",
    "    species = \"Canis familiaris\"\n",
    "    \n",
    "    def __init__(self, name, age, sound):\n",
    "        self.name = name\n",
    "        self.age = age\n",
    "        self.sound = sound\n",
    "\n",
    "    def speak(self):\n",
    "        print(f\"{self.name} says {self.sound}\")\n",
    "\n",
    "class GoldenRetriever(Dog):\n",
    "    def __init__(self, name, age, sound):\n",
    "        super().__init__(name, age, sound)\n",
    "\n",
    "# Test\n",
    "gr = GoldenRetriever(\"Max\", 4, \"Bark\")\n",
    "gr.speak()"
   ]
  },
  {
   "cell_type": "code",
   "execution_count": 26,
   "id": "354c2812-302d-4270-83ef-6c58953baafc",
   "metadata": {},
   "outputs": [
    {
     "name": "stdout",
     "output_type": "stream",
     "text": [
      "The area of the square is 16\n"
     ]
    }
   ],
   "source": [
    "class Rectangle:\n",
    "    def __init__(self, length, width):\n",
    "        self.length = length\n",
    "        self.width = width\n",
    "\n",
    "    def area(self):\n",
    "        return self.length * self.width\n",
    "\n",
    "class Square(Rectangle):\n",
    "    def __init__(self, side_length):\n",
    "        super().__init__(side_length, side_length)\n",
    "\n",
    "sq = Square(4)\n",
    "print(f\"The area of the square is {sq.area()}\")"
   ]
  },
  {
   "cell_type": "markdown",
   "id": "d8907a9d-a1b6-478f-91ec-fe0a6d38a284",
   "metadata": {},
   "source": [
    "# Challenge: Model a Farm"
   ]
  },
  {
   "cell_type": "code",
   "execution_count": 29,
   "id": "79de8aea-1942-491c-b3ad-341f505fcbbc",
   "metadata": {},
   "outputs": [
    {
     "name": "stdout",
     "output_type": "stream",
     "text": [
      "Bessie is a Cow\n",
      "Bessie says Moo!\n",
      "Bessie is 3 years old\n",
      "Bessie grazes on grass\n",
      "\n",
      "Diablo Gato is a Cat\n",
      "Diablo Gato says Meow!\n",
      "Diablo Gato is 2 years old\n",
      "Diablo Gato chases mice\n",
      "\n",
      "Max Verstappen is a Goat\n",
      "Max Verstappen says Baaaa!\n",
      "Max Verstappen is 28 years old\n",
      "Max Verstappen is world champion\n",
      "\n"
     ]
    }
   ],
   "source": [
    "class Animal:\n",
    "    def __init__(self, name, species, age, action):\n",
    "        self.name = name\n",
    "        self.species = species\n",
    "        self.age = age\n",
    "        self.action = action\n",
    "\n",
    "    def show_info(self):\n",
    "        print(f\"{self.name} is a {self.species}\")\n",
    "        self.make_sound()\n",
    "        print(f\"{self.name} is {self.age} years old\")\n",
    "        print(f\"{self.name} {self.action}\")\n",
    "        print()\n",
    "\n",
    "class Cow(Animal):\n",
    "    def make_sound(self):\n",
    "        print(f\"{self.name} says Moo!\")\n",
    "\n",
    "class Cat(Animal):\n",
    "    def make_sound(self):\n",
    "        print(f\"{self.name} says Meow!\")\n",
    "\n",
    "class Goat(Animal):\n",
    "    def make_sound(self):\n",
    "        print(f\"{self.name} says Baaaa!\")\n",
    "\n",
    "cow = Cow(\"Bessie\", \"Cow\", 3, \"grazes on grass\")\n",
    "cat = Cat(\"Diablo Gato\", \"Cat\", 2, \"chases mice\")\n",
    "goat = Goat(\"Max Verstappen\", \"Goat\", 28, \"is world champion\")\n",
    "\n",
    "for animal in [cow, cat, goat]:\n",
    "    animal.show_info()"
   ]
  },
  {
   "cell_type": "code",
   "execution_count": null,
   "id": "63fa6da5-c5fc-47ae-91cb-a37ba7dda056",
   "metadata": {},
   "outputs": [],
   "source": []
  }
 ],
 "metadata": {
  "kernelspec": {
   "display_name": "Python [conda env:base] *",
   "language": "python",
   "name": "conda-base-py"
  },
  "language_info": {
   "codemirror_mode": {
    "name": "ipython",
    "version": 3
   },
   "file_extension": ".py",
   "mimetype": "text/x-python",
   "name": "python",
   "nbconvert_exporter": "python",
   "pygments_lexer": "ipython3",
   "version": "3.13.5"
  }
 },
 "nbformat": 4,
 "nbformat_minor": 5
}
