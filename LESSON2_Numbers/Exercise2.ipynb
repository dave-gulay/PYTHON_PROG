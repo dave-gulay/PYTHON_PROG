{
 "cells": [
  {
   "cell_type": "markdown",
   "id": "391d3cea-5aef-4545-815b-45068c928f40",
   "metadata": {},
   "source": [
    "# Review Question 1"
   ]
  },
  {
   "cell_type": "code",
   "execution_count": 1,
   "id": "27e05b07-8c16-41ff-ba6a-f67f1f515c71",
   "metadata": {},
   "outputs": [
    {
     "name": "stdout",
     "output_type": "stream",
     "text": [
      "25000000\n",
      "25000000\n"
     ]
    }
   ],
   "source": [
    "num1 = 25000000\n",
    "num2 = 25_000_000\n",
    "\n",
    "print(num1)\n",
    "print(num2)"
   ]
  },
  {
   "cell_type": "code",
   "execution_count": 2,
   "id": "38ec6a15-005b-48fe-b5c6-8090d8d4dee8",
   "metadata": {},
   "outputs": [
    {
     "name": "stdout",
     "output_type": "stream",
     "text": [
      "175000.0\n"
     ]
    }
   ],
   "source": [
    "num1 = 175e3\n",
    "\n",
    "print(num1)"
   ]
  },
  {
   "cell_type": "code",
   "execution_count": 31,
   "id": "a5c74041-1230-40b2-bf3f-2ee2ca95047f",
   "metadata": {},
   "outputs": [
    {
     "name": "stdout",
     "output_type": "stream",
     "text": [
      "inf\n"
     ]
    }
   ],
   "source": [
    "print(2e308)"
   ]
  },
  {
   "cell_type": "markdown",
   "id": "a3b8e63b-180c-4a62-a18e-2230c0c7968f",
   "metadata": {},
   "source": [
    "# Review Question 2"
   ]
  },
  {
   "cell_type": "code",
   "execution_count": 23,
   "id": "042d689c-f765-4fd2-9ef4-cd708cf172bc",
   "metadata": {
    "scrolled": true
   },
   "outputs": [
    {
     "name": "stdin",
     "output_type": "stream",
     "text": [
      "Enter a base number:  1.2\n",
      "Enter an exponent:  3\n"
     ]
    },
    {
     "name": "stdout",
     "output_type": "stream",
     "text": [
      "1.2 raised to the power of 3 = 1.7279999999999998\n"
     ]
    }
   ],
   "source": [
    "base = float(input(\"Enter a base number: \"))\n",
    "expo = int(input(\"Enter an exponent: \"))\n",
    "\n",
    "answ = base ** expo\n",
    "\n",
    "print(f\"{base} raised to the power of {expo} = {answ}\")"
   ]
  },
  {
   "cell_type": "markdown",
   "id": "adc3f293-f7b2-454b-925c-3f76ee26a7b2",
   "metadata": {},
   "source": [
    "# Review Question 3"
   ]
  },
  {
   "cell_type": "code",
   "execution_count": 24,
   "id": "6007e9ef-cf0d-4cc7-99e6-06f06854d630",
   "metadata": {},
   "outputs": [
    {
     "name": "stdin",
     "output_type": "stream",
     "text": [
      "Enter a number with decimal, eg. 3.123456:  5.432\n"
     ]
    },
    {
     "name": "stdout",
     "output_type": "stream",
     "text": [
      "5.432 rounded to 2 decimal places is 5.43\n"
     ]
    }
   ],
   "source": [
    "num = float(input(\"Enter a number with decimal, eg. 3.123456: \"))\n",
    "\n",
    "roundNum = round(num, 2)\n",
    "print(f\"{num} rounded to 2 decimal places is {roundNum}\")"
   ]
  },
  {
   "cell_type": "code",
   "execution_count": 25,
   "id": "365bc7c6-8594-4aec-9ada-0326abb94a25",
   "metadata": {},
   "outputs": [
    {
     "name": "stdin",
     "output_type": "stream",
     "text": [
      "Enter a Number:  -10\n"
     ]
    },
    {
     "name": "stdout",
     "output_type": "stream",
     "text": [
      "The absolute number of -10.0 is 10.0\n"
     ]
    }
   ],
   "source": [
    "num = float(input(\"Enter a Number: \"))\n",
    "\n",
    "absolute = abs(num)\n",
    "print(f\"The absolute number of {num} is {absolute}\")"
   ]
  },
  {
   "cell_type": "markdown",
   "id": "eea78cdf-cb39-4aaf-8a1e-869bc46aa0e6",
   "metadata": {},
   "source": [
    "# Review Question 4"
   ]
  },
  {
   "cell_type": "code",
   "execution_count": 26,
   "id": "66cbbf99-215b-4390-aa65-1f965c6b0933",
   "metadata": {},
   "outputs": [
    {
     "name": "stdin",
     "output_type": "stream",
     "text": [
      "Enter a number:  1.5\n",
      "Enter another number:  .5\n"
     ]
    },
    {
     "name": "stdout",
     "output_type": "stream",
     "text": [
      "The difference between 1.5 and 0.5 is an integer? True!\n"
     ]
    }
   ],
   "source": [
    "num1 = float(input(\"Enter a number: \"))\n",
    "num2 = float(input(\"Enter another number: \"))\n",
    "\n",
    "diff = abs(num1 - num2)\n",
    "\n",
    "print(f\"The difference between {num1} and {num2} is an integer? {diff.is_integer()}!\")"
   ]
  },
  {
   "cell_type": "markdown",
   "id": "8da329ad-9fcc-4a34-95c5-ae7df510d589",
   "metadata": {},
   "source": [
    "# Review Question 5"
   ]
  },
  {
   "cell_type": "code",
   "execution_count": 18,
   "id": "12d8671a-f54d-432c-a195-6c1419c344f9",
   "metadata": {},
   "outputs": [
    {
     "name": "stdout",
     "output_type": "stream",
     "text": [
      "1.147\n"
     ]
    }
   ],
   "source": [
    "print(f\"{3 ** 0.125:.3f}\")"
   ]
  },
  {
   "cell_type": "code",
   "execution_count": 19,
   "id": "909e5e72-c07f-44f7-a977-5f5f8a68833f",
   "metadata": {},
   "outputs": [
    {
     "name": "stdout",
     "output_type": "stream",
     "text": [
      "$150,000.00\n"
     ]
    }
   ],
   "source": [
    "print(f\"${150000:,.2f}\")"
   ]
  },
  {
   "cell_type": "code",
   "execution_count": 20,
   "id": "f37f120f-f39c-42e8-9cae-195e3c601682",
   "metadata": {},
   "outputs": [
    {
     "name": "stdout",
     "output_type": "stream",
     "text": [
      "20%\n"
     ]
    }
   ],
   "source": [
    "print(f\"{2/10:.0%}\")"
   ]
  },
  {
   "cell_type": "code",
   "execution_count": null,
   "id": "a49895d8-103c-4946-9284-dfc6a3aac9be",
   "metadata": {},
   "outputs": [],
   "source": []
  }
 ],
 "metadata": {
  "kernelspec": {
   "display_name": "Python [conda env:base] *",
   "language": "python",
   "name": "conda-base-py"
  },
  "language_info": {
   "codemirror_mode": {
    "name": "ipython",
    "version": 3
   },
   "file_extension": ".py",
   "mimetype": "text/x-python",
   "name": "python",
   "nbconvert_exporter": "python",
   "pygments_lexer": "ipython3",
   "version": "3.13.5"
  }
 },
 "nbformat": 4,
 "nbformat_minor": 5
}
