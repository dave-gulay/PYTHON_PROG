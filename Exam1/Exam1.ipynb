{
 "cells": [
  {
   "cell_type": "markdown",
   "id": "baa13d6a-4b06-4a91-9384-caed6a921310",
   "metadata": {},
   "source": [
    "# 1st Long Exam 09/10/25"
   ]
  },
  {
   "cell_type": "markdown",
   "id": "a1d3f8fe-f4e5-4905-a116-c11962c5a63b",
   "metadata": {},
   "source": [
    "# Gulay, Niño Dave M. ID: 23747934"
   ]
  },
  {
   "cell_type": "code",
   "execution_count": 2,
   "id": "f34e92a9-9ff1-411b-aa46-a2059cacf728",
   "metadata": {},
   "outputs": [
    {
     "name": "stdin",
     "output_type": "stream",
     "text": [
      "Enter your name:  dave\n"
     ]
    },
    {
     "name": "stdout",
     "output_type": "stream",
     "text": [
      "Hello dave\n"
     ]
    }
   ],
   "source": [
    "name = input(\"Enter your name: \")\n",
    "print(f\"Hello {name}\")"
   ]
  },
  {
   "cell_type": "code",
   "execution_count": 28,
   "id": "f99242b6-1087-404e-aeb6-3f6e55eda64d",
   "metadata": {},
   "outputs": [
    {
     "name": "stdin",
     "output_type": "stream",
     "text": [
      "Enter a positive integer:  8\n"
     ]
    },
    {
     "name": "stdout",
     "output_type": "stream",
     "text": [
      "The sum is: 36.0\n"
     ]
    }
   ],
   "source": [
    "sum = 0\n",
    "num = float(input(\"Enter a positive integer: \"))\n",
    "finaln = abs(num)\n",
    "sum = finaln*(finaln + 1) / 2\n",
    "print(f\"The sum is: {sum}\")"
   ]
  },
  {
   "cell_type": "code",
   "execution_count": 29,
   "id": "c3173723-591e-40ad-8226-d48631d9fc4f",
   "metadata": {},
   "outputs": [
    {
     "name": "stdin",
     "output_type": "stream",
     "text": [
      "Enter a letter in the alphabet:  a\n"
     ]
    },
    {
     "name": "stdout",
     "output_type": "stream",
     "text": [
      "The entered letter is a vowel.\n"
     ]
    }
   ],
   "source": [
    "letter = input(\"Enter a letter in the alphabet: \")\n",
    "if letter == \"a,e,i,o,u\" or \"A,E,I,O,U\":\n",
    "    print(\"The entered letter is a vowel.\")\n",
    "elif letter == \"y\" or \"Y\":\n",
    "    print (\"Sometimes y is a vowel and sometimes is a consonant.\")\n",
    "else:\n",
    "    print(\"The entered letter is a consonant.\")"
   ]
  },
  {
   "cell_type": "code",
   "execution_count": null,
   "id": "414a2c32-085a-4f33-bd87-3af700c553e4",
   "metadata": {},
   "outputs": [],
   "source": [
    "question 4 no answer"
   ]
  },
  {
   "cell_type": "code",
   "execution_count": 34,
   "id": "d7efb71f-85bd-457e-b9f1-5a6e2e567cf9",
   "metadata": {},
   "outputs": [
    {
     "ename": "SyntaxError",
     "evalue": "invalid syntax (1578215891.py, line 2)",
     "output_type": "error",
     "traceback": [
      "\u001b[1;36m  Cell \u001b[1;32mIn[34], line 2\u001b[1;36m\u001b[0m\n\u001b[1;33m    return h = (a ** 2 + b ** 2)**0.5\u001b[0m\n\u001b[1;37m             ^\u001b[0m\n\u001b[1;31mSyntaxError\u001b[0m\u001b[1;31m:\u001b[0m invalid syntax\n"
     ]
    }
   ],
   "source": [
    "def hypotenuse(h):\n",
    "    return h = (a ** 2 + b ** 2)**0.5\n",
    "a = float(input(\"Enter the first length: \")\n",
    "b = float(input(\"Enter the second length: \")\n",
    "result = hypotenuse(h)\n",
    "print(f\"The result is: {result}\")"
   ]
  },
  {
   "cell_type": "code",
   "execution_count": null,
   "id": "b26de695-e144-469d-952c-41cfebe16926",
   "metadata": {},
   "outputs": [],
   "source": []
  },
  {
   "cell_type": "code",
   "execution_count": null,
   "id": "dd0d3d01-562a-43c9-be84-8e02ebb94180",
   "metadata": {},
   "outputs": [],
   "source": []
  },
  {
   "cell_type": "code",
   "execution_count": null,
   "id": "725ee8ac-e953-453a-a930-5af5a671cea8",
   "metadata": {},
   "outputs": [],
   "source": []
  }
 ],
 "metadata": {
  "kernelspec": {
   "display_name": "Python 3 (ipykernel)",
   "language": "python",
   "name": "python3"
  },
  "language_info": {
   "codemirror_mode": {
    "name": "ipython",
    "version": 3
   },
   "file_extension": ".py",
   "mimetype": "text/x-python",
   "name": "python",
   "nbconvert_exporter": "python",
   "pygments_lexer": "ipython3",
   "version": "3.13.5"
  }
 },
 "nbformat": 4,
 "nbformat_minor": 5
}
