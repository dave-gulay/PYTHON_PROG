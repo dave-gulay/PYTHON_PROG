{
 "cells": [
  {
   "cell_type": "markdown",
   "id": "19ee8124-c26c-4d5d-a341-038fadd213c5",
   "metadata": {},
   "source": [
    "# Review Question 1"
   ]
  },
  {
   "cell_type": "code",
   "execution_count": 9,
   "id": "933c692e-cf37-4dc3-a6a1-58cfd95c7611",
   "metadata": {},
   "outputs": [
    {
     "name": "stdout",
     "output_type": "stream",
     "text": [
      "False\n",
      "False\n",
      "True\n",
      "False\n"
     ]
    }
   ],
   "source": [
    "print((1<=1) and (1!=1))\n",
    "print(not (1!=2))\n",
    "print((\"good\"!=\"bad\")or False)\n",
    "print((\"good\"!=\"Good\")and not (1==1))"
   ]
  },
  {
   "cell_type": "code",
   "execution_count": 12,
   "id": "14bd8880-a088-4d3a-9b96-cd9bbff42466",
   "metadata": {},
   "outputs": [
    {
     "name": "stdout",
     "output_type": "stream",
     "text": [
      "True\n",
      "True\n",
      "True\n"
     ]
    }
   ],
   "source": [
    "print(False == (not True))\n",
    "print((True and False) == (True and False))\n",
    "print(not (True and \"A\"==\"B\"))"
   ]
  },
  {
   "cell_type": "markdown",
   "id": "89c03378-79c0-4242-96d2-2f76bdd99cba",
   "metadata": {},
   "source": [
    "# Review Question 2"
   ]
  },
  {
   "cell_type": "code",
   "execution_count": 15,
   "id": "51acee58-09db-4969-8179-282f151af285",
   "metadata": {},
   "outputs": [
    {
     "name": "stdin",
     "output_type": "stream",
     "text": [
      "Please Enter a Word Dave\n"
     ]
    },
    {
     "name": "stdout",
     "output_type": "stream",
     "text": [
      "Your Input Has Less than 5 characters\n"
     ]
    }
   ],
   "source": [
    "answer = input(\"Please Enter a Word\")\n",
    "length = (len(answer))\n",
    "if length > 5:\n",
    "    print (\"Your Input Has More than 5 characters\")\n",
    "elif length < 5:\n",
    "    print (\"Your Input Has Less than 5 characters\")\n",
    "else:\n",
    "    print (\"Your Input Has 5 characters\")"
   ]
  },
  {
   "cell_type": "markdown",
   "id": "704d0551-ec75-4ea7-ad93-2004ee9afc05",
   "metadata": {},
   "source": [
    "# Review Question 3"
   ]
  },
  {
   "cell_type": "code",
   "execution_count": 20,
   "id": "07065837-195a-43bd-8886-1e95ae2f7841",
   "metadata": {},
   "outputs": [
    {
     "name": "stdin",
     "output_type": "stream",
     "text": [
      "Please Enter a Anything dave\n",
      "Please Enter a Anything a\n",
      "Please Enter a Anything s\n",
      "Please Enter a Anything f\n",
      "Please Enter a Anything q\n"
     ]
    }
   ],
   "source": [
    "while True:\n",
    "    Answer = input(\"Please Enter a Anything\")\n",
    "    if Answer.lower() == \"q\":\n",
    "        break"
   ]
  },
  {
   "cell_type": "code",
   "execution_count": 25,
   "id": "54662b43-9072-41e2-a0cf-485b7dd36452",
   "metadata": {},
   "outputs": [
    {
     "name": "stdout",
     "output_type": "stream",
     "text": [
      "1\n",
      "2\n",
      "4\n",
      "5\n",
      "7\n",
      "8\n",
      "10\n",
      "11\n",
      "13\n",
      "14\n",
      "16\n",
      "17\n",
      "19\n",
      "20\n",
      "22\n",
      "23\n",
      "25\n",
      "26\n",
      "28\n",
      "29\n",
      "31\n",
      "32\n",
      "34\n",
      "35\n",
      "37\n",
      "38\n",
      "40\n",
      "41\n",
      "43\n",
      "44\n",
      "46\n",
      "47\n",
      "49\n",
      "50\n"
     ]
    }
   ],
   "source": [
    "for i in range(1, 51):\n",
    "    if i % 3 == 0:\n",
    "        continue\n",
    "    print(i)"
   ]
  },
  {
   "cell_type": "markdown",
   "id": "164af1b0-11c0-4f5d-ae68-b635a9f5e8af",
   "metadata": {},
   "source": [
    "# Review Question 4"
   ]
  },
  {
   "cell_type": "code",
   "execution_count": 28,
   "id": "b2f35c7b-efda-4a89-b7a2-be0d45519e24",
   "metadata": {},
   "outputs": [
    {
     "name": "stdin",
     "output_type": "stream",
     "text": [
      "Please enter an integer:  q\n"
     ]
    },
    {
     "name": "stdout",
     "output_type": "stream",
     "text": [
      "Try again. That was not an integer.\n"
     ]
    },
    {
     "name": "stdin",
     "output_type": "stream",
     "text": [
      "Please enter an integer:  d\n"
     ]
    },
    {
     "name": "stdout",
     "output_type": "stream",
     "text": [
      "Try again. That was not an integer.\n"
     ]
    },
    {
     "name": "stdin",
     "output_type": "stream",
     "text": [
      "Please enter an integer:  2\n"
     ]
    },
    {
     "name": "stdout",
     "output_type": "stream",
     "text": [
      "You entered: 2\n"
     ]
    }
   ],
   "source": [
    "while True:\n",
    "        try:\n",
    "            user_input = input(\"Please enter an integer: \")\n",
    "            number = int(user_input)  \n",
    "            print(f\"You entered: {number}\")\n",
    "            break  \n",
    "        except ValueError:\n",
    "            print(\"Try again. That was not an integer.\")"
   ]
  },
  {
   "cell_type": "code",
   "execution_count": 41,
   "id": "67f94856-321b-4386-8ea3-92b85a2ef13d",
   "metadata": {},
   "outputs": [
    {
     "name": "stdin",
     "output_type": "stream",
     "text": [
      "Enter a string:  dave\n",
      "Enter an index (integer):  1\n"
     ]
    },
    {
     "name": "stdout",
     "output_type": "stream",
     "text": [
      "The character at index 1 is: a\n"
     ]
    }
   ],
   "source": [
    "def char_at_index():\n",
    "    text = input(\"Enter a string: \")\n",
    "    try:\n",
    "        n = int(input(\"Enter an index (integer): \"))\n",
    "        print(f\"The character at index {n} is: {text[n]}\")\n",
    "    except ValueError:\n",
    "        print(\"Invalid input. Index must be an integer.\")\n",
    "    except IndexError:\n",
    "        print(\"Index out of range for the given string.\")\n",
    "\n",
    "\n",
    "char_at_index()"
   ]
  },
  {
   "cell_type": "markdown",
   "id": "0daa9942-bd4f-4c86-9a46-ae7ad8935690",
   "metadata": {},
   "source": [
    "# Review Question 5"
   ]
  },
  {
   "cell_type": "code",
   "execution_count": 46,
   "id": "52ad579d-204f-4888-8371-2c9fa59e8d06",
   "metadata": {},
   "outputs": [
    {
     "name": "stdout",
     "output_type": "stream",
     "text": [
      "5\n"
     ]
    }
   ],
   "source": [
    "import random\n",
    "\n",
    "def roll():\n",
    "    return random.randint(1, 6)\n",
    "print(roll())"
   ]
  },
  {
   "cell_type": "code",
   "execution_count": 51,
   "id": "88fcf69c-8461-4b48-a15c-d628cea505a1",
   "metadata": {},
   "outputs": [
    {
     "name": "stdout",
     "output_type": "stream",
     "text": [
      "After 10000 rolls, the average number rolled is: 3.46\n"
     ]
    }
   ],
   "source": [
    "import random\n",
    "\n",
    "def simulate_dice_rolls(num_rolls=10000):\n",
    "    total = 0\n",
    "    for _ in range(num_rolls):\n",
    "        roll = random.randint(1, 6)  # fair die (1–6)\n",
    "        total += roll\n",
    "    average = total / num_rolls\n",
    "    print(f\"After {num_rolls} rolls, the average number rolled is: {average:.2f}\")\n",
    "\n",
    "simulate_dice_rolls()"
   ]
  },
  {
   "cell_type": "markdown",
   "id": "87f2134c-b433-4618-82e7-d5a3d8d3d781",
   "metadata": {},
   "source": [
    "# Challenge"
   ]
  },
  {
   "cell_type": "code",
   "execution_count": 60,
   "id": "5c014734-7570-4048-a66e-2fa205c25592",
   "metadata": {},
   "outputs": [
    {
     "name": "stdout",
     "output_type": "stream",
     "text": [
      "Chances Candidate A wins each region:\n",
      "Region 1: 87.0%\n",
      "Region 2: 65.0%\n",
      "Region 3: 17.0%\n",
      "\n",
      "Estimated probability Candidate A wins the election: 0.6334\n"
     ]
    }
   ],
   "source": [
    "import random\n",
    "\n",
    "def show_region_probabilities():\n",
    "    region1 = 0.87\n",
    "    region2 = 0.65\n",
    "    region3 = 0.17\n",
    "\n",
    "    print(\"Chances Candidate A wins each region:\")\n",
    "    print(f\"Region 1: {region1 * 100:.1f}%\")\n",
    "    print(f\"Region 2: {region2 * 100:.1f}%\")\n",
    "    print(f\"Region 3: {region3 * 100:.1f}%\")\n",
    "\n",
    "def simulate_election(trials=100000):\n",
    "    region1 = 0.87\n",
    "    region2 = 0.65\n",
    "    region3 = 0.17\n",
    "\n",
    "    wins_for_A = 0\n",
    "\n",
    "    for _ in range(trials):\n",
    "        region_wins = 0\n",
    "        \n",
    "        if random.random() < region1:\n",
    "            region_wins += 1\n",
    "        if random.random() < region2:\n",
    "            region_wins += 1\n",
    "        if random.random() < region3:\n",
    "            region_wins += 1\n",
    "        \n",
    "        if region_wins >= 2:\n",
    "            wins_for_A += 1\n",
    "\n",
    "    probability = wins_for_A / trials\n",
    "    print(f\"\\nEstimated probability Candidate A wins the election: {probability:.4f}\")\n",
    "\n",
    "\n",
    "show_region_probabilities()\n",
    "simulate_election()"
   ]
  },
  {
   "cell_type": "code",
   "execution_count": null,
   "id": "79286565-3dca-4cde-ba1d-9b848acd59c2",
   "metadata": {},
   "outputs": [],
   "source": []
  }
 ],
 "metadata": {
  "kernelspec": {
   "display_name": "Python [conda env:base] *",
   "language": "python",
   "name": "conda-base-py"
  },
  "language_info": {
   "codemirror_mode": {
    "name": "ipython",
    "version": 3
   },
   "file_extension": ".py",
   "mimetype": "text/x-python",
   "name": "python",
   "nbconvert_exporter": "python",
   "pygments_lexer": "ipython3",
   "version": "3.13.5"
  }
 },
 "nbformat": 4,
 "nbformat_minor": 5
}
