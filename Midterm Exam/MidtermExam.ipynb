{
 "cells": [
  {
   "cell_type": "markdown",
   "id": "96ffa5b9-42a1-4c38-8258-7e9e9ab064ea",
   "metadata": {},
   "source": [
    "# Question 1"
   ]
  },
  {
   "cell_type": "code",
   "execution_count": 22,
   "id": "049acc5b-0847-4e25-9e9e-93363e45d837",
   "metadata": {},
   "outputs": [
    {
     "name": "stdout",
     "output_type": "stream",
     "text": [
      "6\n"
     ]
    }
   ],
   "source": [
    "\"\"\"\n",
    "Task: \n",
    "String Normalizer & Finder. Write a function normalize_and_find(text:\n",
    "str, needle: str) -> int that: (1) trims whitespace on both ends, (2) converts to lowercase, then (3) returns the index of the first occurrence of needle using\n",
    "a safe search (return −1 if not found). Discuss alternatives (find vs. index), and\n",
    "how your choice affects error handling.\n",
    "\n",
    "Prompt\n",
    "Write a Python function normalize_and_find(text, needle) that trims whitespace on both ends of text, converts it to lowercase, then returns the index of the first occurrence of needle using a safe search (return -1 if not found). Add a quick print test.\n",
    "\n",
    "ChatGPT Code (original)\"\"\"\n",
    "def normalize_and_find(text, needle):\n",
    "    t = text.strip().lower()\n",
    "    return t.find(needle)\n",
    "\n",
    "# quick test\n",
    "print(normalize_and_find(\"  Hello World  \", \"world\"))\n",
    "\n"
   ]
  },
  {
   "cell_type": "code",
   "execution_count": 18,
   "id": "a04eeab9-240e-4fed-85d6-6a7643ec686a",
   "metadata": {},
   "outputs": [
    {
     "name": "stdout",
     "output_type": "stream",
     "text": [
      "All tests passed.\n"
     ]
    }
   ],
   "source": [
    "\"\"\"Critique\n",
    "Correctness: Works mostly right but doesn’t lowercase needle, so case-insensitive search fails.\n",
    "\n",
    "Complexity: O(n) time, O(n) space, its fine because it checks each letter once.\n",
    "\n",
    "Robustness: No input checks, okay for simple use.\n",
    "\n",
    "Readability: Clear enough; better variable names and a docstring would help.\n",
    "\n",
    "Faithfulness: Matches lectures — uses .strip(), .lower(), and .find() correctly.\n",
    "\n",
    "\n",
    "\n",
    "Improved Code\"\"\"\n",
    "def normalize_and_find(text: str, needle: str) -> int:\n",
    "    \"\"\"Return index of needle in normalized text (case-insensitive).\"\"\"\n",
    "    if not isinstance(text, str) or not isinstance(needle, str):\n",
    "        raise TypeError(\"Both arguments must be strings.\")\n",
    "\n",
    "    normalized = text.strip().lower()\n",
    "    needle_norm = needle.lower()\n",
    "    return normalized.find(needle_norm)  # find returns -1 safely\n",
    "\n",
    "\n",
    "# tests\n",
    "if __name__ == \"__main__\":\n",
    "    assert normalize_and_find(\"  Hello World  \", \"world\") == 6\n",
    "    assert normalize_and_find(\"abc\", \"d\") == -1\n",
    "    assert normalize_and_find(\"\", \"\") == 0\n",
    "    print(\"All tests passed.\")"
   ]
  },
  {
   "cell_type": "markdown",
   "id": "0b17c781-b3bc-4201-b74f-59c924324f87",
   "metadata": {},
   "source": [
    "# Question 2"
   ]
  },
  {
   "cell_type": "code",
   "execution_count": 16,
   "id": "42bde353-aa45-4ddd-a1c8-4b6e1a3497b8",
   "metadata": {},
   "outputs": [
    {
     "name": "stdout",
     "output_type": "stream",
     "text": [
      "4ppl3\n"
     ]
    }
   ],
   "source": [
    "\"\"\"\n",
    "Task:\n",
    "Leetspeak Translator (Parametric). Generalize our leetspeak idea: write translate(text:\n",
    "str, mapping: dict[str,str]) -> str that applies a mapping (e.g., {’a’:’4’,’e’:’3’,...})\n",
    "over lowercase letters only, leaving others unchanged. Explain why strings are immutable and show an efficient approach (e.g., list join vs. repeated concatenation).\n",
    "\n",
    "Prompt\n",
    "Write a function translate(text: str, mapping: dict[str,str]) -> str that replaces each lowercase letter in text based on mapping (e.g., { 'a':'4', 'e':'3' }), leaving others unchanged. Be efficient (use list join, not repeated +).\n",
    "\n",
    "\n",
    "ChatGPT code (original)\"\"\"\n",
    "def translate(text, mapping):\n",
    "    result = \"\"\n",
    "    for ch in text:\n",
    "        if ch in mapping:\n",
    "            result += mapping[ch]\n",
    "        else:\n",
    "            result += ch\n",
    "    return result\n",
    "\n",
    "print(translate(\"apple\", {\"a\": \"4\", \"e\": \"3\"}))"
   ]
  },
  {
   "cell_type": "code",
   "execution_count": 24,
   "id": "c7457cbb-e33c-4cee-9eac-6f679d113670",
   "metadata": {},
   "outputs": [
    {
     "name": "stdout",
     "output_type": "stream",
     "text": [
      "h3110\n",
      "L33t5p34k!\n"
     ]
    }
   ],
   "source": [
    "\"\"\"Critique\n",
    "Correctness: Works fine for lowercase letters; does replacements as needed.\n",
    "\n",
    "Complexity: O(n²) in worst case because of repeated + on strings. Should use list + \"\".join() for efficiency.\n",
    "\n",
    "Robustness: No input type checks; fine for small text.\n",
    "\n",
    "Readability: Simple and clear but missing docstring and hints.\n",
    "\n",
    "Faithfulness: Uses loop and replace idea correctly; shows string immutability since strings can’t be changed directly.\n",
    "\n",
    "\n",
    "Improved Code\"\"\"\n",
    "def translate(text: str, mapping: dict[str, str]) -> str:\n",
    "    \"\"\"Return a leetspeak version of text using given mapping.\"\"\"\n",
    "    if not isinstance(text, str):\n",
    "        raise TypeError(\"text must be a string\")\n",
    "    if not isinstance(mapping, dict):\n",
    "        raise TypeError(\"mapping must be a dictionary\")\n",
    "\n",
    "    chars = []\n",
    "    for ch in text:\n",
    "        chars.append(mapping.get(ch, ch))\n",
    "    return \"\".join(chars)\n",
    "\n",
    "\n",
    "if __name__ == \"__main__\":\n",
    "    leet = {\"a\": \"4\", \"e\": \"3\", \"l\": \"1\", \"o\": \"0\", \"s\": \"5\"}\n",
    "    print(translate(\"hello\", leet))  \n",
    "    print(translate(\"Leetspeak!\", leet))  "
   ]
  },
  {
   "cell_type": "markdown",
   "id": "ef69ddc9-ee91-404c-89be-9551a9d12616",
   "metadata": {},
   "source": [
    "# Question 3"
   ]
  },
  {
   "cell_type": "code",
   "execution_count": 23,
   "id": "b5c038ad-915a-414c-a7ba-0d11ddb0b7c1",
   "metadata": {},
   "outputs": [
    {
     "name": "stdout",
     "output_type": "stream",
     "text": [
      "1,234.50\n",
      "2.50\n",
      "3.50\n"
     ]
    }
   ],
   "source": [
    "\"\"\"\n",
    "Task:\n",
    "Currency Formatter & Rounding Ties-to-Even. Write fmt_money(x: float)\n",
    "-> str that returns a string like 1,234.50 using proper rounding (banker’s rounding / ties-to-even). Include test cases that demonstrate ties (e.g., 2.5, 3.5). Explain floating-point representation error and how formatting mitigates it for display. Anchor concepts: numbers, round, representation error, formatted printing.\n",
    "\n",
    "Prompt\n",
    "Write a function fmt_money(x: float) -> str that returns a string like 1,234.50, using banker’s rounding (ties-to-even). Show test cases for 2.5 and 3.5. Explain floating-point errors and how formatting helps fix display issues.\n",
    "\n",
    "\n",
    "ChatGPT code (original)\"\"\"\n",
    "def fmt_money(x):\n",
    "    return f\"{round(x, 2):,.2f}\"\n",
    "\n",
    "print(fmt_money(1234.5))\n",
    "print(fmt_money(2.5))\n",
    "print(fmt_money(3.5))"
   ]
  },
  {
   "cell_type": "code",
   "execution_count": 26,
   "id": "023dfd08-7252-48ae-bad5-9edbdebc2129",
   "metadata": {},
   "outputs": [
    {
     "name": "stdout",
     "output_type": "stream",
     "text": [
      "1,234.50\n",
      "2.50\n",
      "3.50\n"
     ]
    }
   ],
   "source": [
    "\"\"\"Critique\n",
    "Correctness: Works fine; Python’s built-in round() already uses ties-to-even, so results follow banker’s rounding.\n",
    "\n",
    "Complexity: O(1) — just arithmetic and formatting.\n",
    "\n",
    "Robustness: No type checks but okay for normal numeric input.\n",
    "\n",
    "Readability: Clear and short; missing docstring and type hints.\n",
    "\n",
    "Faithfulness: Uses round() and formatted printing (f\"{:,.2f}\") as taught in lectures on numbers and printing.\n",
    "\n",
    "\n",
    "Improved Code\"\"\"\n",
    "def fmt_money(x: float) -> str:\n",
    "    \"\"\"Return x as a money string with 2 decimals and commas (ties-to-even).\"\"\"\n",
    "    if not isinstance(x, (int, float)):\n",
    "        raise TypeError(\"x must be a number\")\n",
    "    return f\"{round(x, 2):,.2f}\"\n",
    "\n",
    "\n",
    "if __name__ == \"__main__\":\n",
    "    print(fmt_money(1234.5))   \n",
    "    print(fmt_money(2.5))      \n",
    "    print(fmt_money(3.5))      "
   ]
  },
  {
   "cell_type": "markdown",
   "id": "57418fe3-dd2d-46bd-b76f-f23792a64770",
   "metadata": {},
   "source": [
    "# Question 4"
   ]
  },
  {
   "cell_type": "code",
   "execution_count": 28,
   "id": "8230afee-3758-456b-b524-2a698b852b5b",
   "metadata": {},
   "outputs": [
    {
     "name": "stdin",
     "output_type": "stream",
     "text": [
      "Enter base:  2\n",
      "Enter exponent:  2\n"
     ]
    },
    {
     "name": "stdout",
     "output_type": "stream",
     "text": [
      "4.0\n"
     ]
    }
   ],
   "source": [
    "\"\"\"\n",
    "Task:\n",
    " Exponent Tool & Input Validation. Create a CLI program exponent.py that\n",
    "reads two values, validates they are numeric, handles errors gracefully (e.g., ValueError),\n",
    "and prints a ** b with clear messages. Compare using try/except vs. pre-validation\n",
    "with str.isdigit() (and why isdigit() is insufficient for negatives/floats). Anchor concepts: arithmetic operators, exceptions, input.\n",
    "\n",
    "Prompt\n",
    "Create a CLI program exponent.py that reads two values, checks if they are numbers, handles bad input safely, and prints a ** b. Compare try/except vs. str.isdigit() and explain why isdigit() fails for negatives and floats.\n",
    "\n",
    "\n",
    "ChatGPT code (original)\"\"\"\n",
    "a = input(\"Enter base: \")\n",
    "b = input(\"Enter exponent: \")\n",
    "\n",
    "if a.isdigit() and b.isdigit():\n",
    "    print(float(a) ** float(b))\n",
    "else:\n",
    "    print(\"Invalid input. Please enter numbers only.\")"
   ]
  },
  {
   "cell_type": "code",
   "execution_count": 29,
   "id": "cb74f919-6b7f-47cb-af92-e6d146569b15",
   "metadata": {},
   "outputs": [
    {
     "name": "stdin",
     "output_type": "stream",
     "text": [
      "Enter base:  2\n",
      "Enter exponent:  2\n"
     ]
    },
    {
     "name": "stdout",
     "output_type": "stream",
     "text": [
      "2.0 ** 2.0 = 4.0\n"
     ]
    }
   ],
   "source": [
    "\"\"\"Critique\n",
    "Correctness: Works only for positive integers. isdigit() fails for negative (-2) or float (2.5) values.\n",
    "\n",
    "Complexity: O(1); just input and math.\n",
    "\n",
    "Robustness: No exception handling; would fail for invalid inputs.\n",
    "\n",
    "Readability: Simple but missing messages and comments.\n",
    "\n",
    "Faithfulness: Uses arithmetic operator **, but doesn’t show exception handling taught in lectures (try/except for safe input).\n",
    "\n",
    "\n",
    "Improved Code\"\"\"\n",
    "def exponent_tool():\n",
    "    \"\"\"Reads two numbers and prints a ** b with validation.\"\"\"\n",
    "    try:\n",
    "        a = float(input(\"Enter base: \"))\n",
    "        b = float(input(\"Enter exponent: \"))\n",
    "        print(f\"{a} ** {b} = {a ** b}\")\n",
    "    except ValueError:\n",
    "        print(\"Error: please enter valid numeric values.\")\n",
    "\n",
    "if __name__ == \"__main__\":\n",
    "    exponent_tool()"
   ]
  },
  {
   "cell_type": "markdown",
   "id": "49d9acdf-99b9-4838-a92f-bb72209c3b3f",
   "metadata": {},
   "source": [
    "# Question 5"
   ]
  },
  {
   "cell_type": "code",
   "execution_count": 33,
   "id": "f11a8b73-e4f2-416f-91d0-13b0d66c3f3a",
   "metadata": {},
   "outputs": [
    {
     "name": "stdin",
     "output_type": "stream",
     "text": [
      "Enter password (Q to quit):  Ninodavegu!ay1\n"
     ]
    },
    {
     "name": "stdout",
     "output_type": "stream",
     "text": [
      "Password accepted.\n"
     ]
    }
   ],
   "source": [
    "\"\"\"\n",
    "Task:\n",
    "Password Policy Checker (If/Elif/Else + Loops). Implement check_password(pw:\n",
    "str) -> dict that validates: length ≥ 10, at least one uppercase, one lowercase,\n",
    "one digit, one symbol in !@#$%^&*, and no spaces. Return a dict of booleans per\n",
    "rule and an overall pass/fail. Include a loop that prompts until a valid password\n",
    "is entered (allow quit with Q/q).\n",
    "\n",
    "Prompt\n",
    "Implement check_password(pw: str) -> dict that checks these rules:\n",
    "Length ≥ 10\n",
    "At least one uppercase\n",
    "At least one lowercase\n",
    "At least one digit\n",
    "At least one symbol in !@#$%^&*\n",
    "No spaces\n",
    "Return a dict showing each rule’s result and overall pass/fail. Add a loop asking until password is valid (or user quits with Q/q).\n",
    "\n",
    "\n",
    "ChatGPT code (original)\"\"\"\n",
    "def check_password(pw):\n",
    "    result = {\n",
    "        \"length\": len(pw) >= 10,\n",
    "        \"upper\": any(c.isupper() for c in pw),\n",
    "        \"lower\": any(c.islower() for c in pw),\n",
    "        \"digit\": any(c.isdigit() for c in pw),\n",
    "        \"symbol\": any(c in \"!@#$%^&*\" for c in pw),\n",
    "        \"space\": \" \" not in pw\n",
    "    }\n",
    "    result[\"valid\"] = all(result.values())\n",
    "    return result\n",
    "\n",
    "while True:\n",
    "    pw = input(\"Enter password (Q to quit): \")\n",
    "    if pw.lower() == \"q\":\n",
    "        break\n",
    "    res = check_password(pw)\n",
    "    if res[\"valid\"]:\n",
    "        print(\"Password accepted.\")\n",
    "        break\n",
    "    else:\n",
    "        print(\"Invalid password. Try again.\")"
   ]
  },
  {
   "cell_type": "code",
   "execution_count": 34,
   "id": "68f56b26-e124-4f9d-a664-fbf7b07c0a2d",
   "metadata": {},
   "outputs": [
    {
     "name": "stdin",
     "output_type": "stream",
     "text": [
      "Enter password (Q to quit):  ninodavegulay!\n"
     ]
    },
    {
     "name": "stdout",
     "output_type": "stream",
     "text": [
      "Invalid password. Try again.\n"
     ]
    },
    {
     "name": "stdin",
     "output_type": "stream",
     "text": [
      "Enter password (Q to quit):  Ninodavegu!ay1\n"
     ]
    },
    {
     "name": "stdout",
     "output_type": "stream",
     "text": [
      "Password accepted!\n"
     ]
    }
   ],
   "source": [
    "\"\"\"Critique\n",
    "Correctness: Checks all rules properly and loops until valid or quit.\n",
    "\n",
    "Complexity: O(n) — scans password once. Good.\n",
    "\n",
    "Robustness: Works fine; could print which rule failed for clarity.\n",
    "\n",
    "Readability: Simple, clear structure; minor improvements could add docstrings.\n",
    "\n",
    "Faithfulness: Very close to lectures — uses conditionals, logical operators, and loop control (break, continue).\n",
    "\n",
    "Improved Code\"\"\"\n",
    "def check_password(pw: str) -> dict:\n",
    "    \"\"\"Check password rules and return a dict with results.\"\"\"\n",
    "    checks = {\n",
    "        \"length\": len(pw) >= 10,\n",
    "        \"upper\": any(c.isupper() for c in pw),\n",
    "        \"lower\": any(c.islower() for c in pw),\n",
    "        \"digit\": any(c.isdigit() for c in pw),\n",
    "        \"symbol\": any(c in \"!@#$%^&*\" for c in pw),\n",
    "        \"space\": \" \" not in pw\n",
    "    }\n",
    "    checks[\"valid\"] = all(checks.values())\n",
    "    return checks\n",
    "\n",
    "\n",
    "if __name__ == \"__main__\":\n",
    "    while True:\n",
    "        pw = input(\"Enter password (Q to quit): \")\n",
    "        if pw.lower() == \"q\":\n",
    "            print(\"Goodbye.\")\n",
    "            break\n",
    "        result = check_password(pw)\n",
    "        if result[\"valid\"]:\n",
    "            print(\"Password accepted!\")\n",
    "            break\n",
    "        else:\n",
    "            print(\"Invalid password. Try again.\")"
   ]
  },
  {
   "cell_type": "markdown",
   "id": "f65f7db5-12ab-44c8-89b8-b0241277360e",
   "metadata": {},
   "source": [
    "# Question 6"
   ]
  },
  {
   "cell_type": "code",
   "execution_count": 35,
   "id": "ebd22136-b208-46d3-891e-dfd13a8cc279",
   "metadata": {},
   "outputs": [
    {
     "name": "stdout",
     "output_type": "stream",
     "text": [
      "Estimated probability: 0.16866\n"
     ]
    }
   ],
   "source": [
    "\"\"\"\n",
    "Task:\n",
    "Dice Simulation (Monte Carlo). Write roll() -> int to simulate a fair die,\n",
    "then simulate 100,000 rolls to estimate the probability that the sum of two dice\n",
    "equals 7. Compare empirical result to the exact probability. Comment on random\n",
    "seeding and reproducibility\n",
    "\n",
    "Prompt\n",
    "Write roll() -> int to simulate a fair die. Then simulate 100,000 rolls of two dice to estimate the probability that their sum = 7. Compare the result to the exact probability (1/6 ≈ 0.1667). Explain random seeding and reproducibility.\n",
    "\n",
    "\n",
    "ChatGPT code (original)\"\"\"\n",
    "import random\n",
    "\n",
    "def roll():\n",
    "    return random.randint(1, 6)\n",
    "\n",
    "count = 0\n",
    "for _ in range(100000):\n",
    "    if roll() + roll() == 7:\n",
    "        count += 1\n",
    "\n",
    "print(\"Estimated probability:\", count / 100000)"
   ]
  },
  {
   "cell_type": "code",
   "execution_count": 36,
   "id": "35ac1e09-277c-41e4-8cc8-4436aca4a239",
   "metadata": {},
   "outputs": [
    {
     "name": "stdout",
     "output_type": "stream",
     "text": [
      "Estimated probability: 0.1704\n",
      "Exact probability: 1/6 ≈ 0.1667\n"
     ]
    }
   ],
   "source": [
    "\"\"\"Critique\n",
    "Correctness: Simulates fair dice correctly and gives an accurate estimate close to 0.1667.\n",
    "\n",
    "Complexity: O(n); fine for 100,000 rolls.\n",
    "\n",
    "Robustness: Works, but lacks seeding for reproducibility (random.seed(0)).\n",
    "\n",
    "Readability: Clear and simple, though no comments or structure.\n",
    "\n",
    "Faithfulness: Follows lecture guidance on Monte Carlo simulation and averages, but could explain seeding better.\n",
    "\n",
    "Improved Code\"\"\"\n",
    "import random\n",
    "\n",
    "def roll() -> int:\n",
    "    \"\"\"Simulate rolling one fair six-sided die.\"\"\"\n",
    "    return random.randint(1, 6)\n",
    "\n",
    "def simulate(n: int = 100000) -> float:\n",
    "    \"\"\"Estimate probability that sum of two dice equals 7.\"\"\"\n",
    "    random.seed(0)  # Ensures reproducible results\n",
    "    count = sum(1 for _ in range(n) if roll() + roll() == 7)\n",
    "    return count / n\n",
    "\n",
    "if __name__ == \"__main__\":\n",
    "    p = simulate()\n",
    "    print(f\"Estimated probability: {p:.4f}\")\n",
    "    print(\"Exact probability: 1/6 ≈ 0.1667\")"
   ]
  },
  {
   "cell_type": "markdown",
   "id": "030bd73e-c62f-4308-b0d7-97b9f8a62dbb",
   "metadata": {},
   "source": [
    "# Question 7"
   ]
  },
  {
   "cell_type": "code",
   "execution_count": 37,
   "id": "afeaa2c6-36ba-485c-86a0-9df21a307289",
   "metadata": {},
   "outputs": [
    {
     "name": "stdout",
     "output_type": "stream",
     "text": [
      "10100 40.0\n"
     ]
    }
   ],
   "source": [
    "\"\"\"\n",
    "Task:\n",
    "OOP: Vehicles with Odometer and Fuel. Design classes Vehicle (base),\n",
    "Car and Truck (children). Each has color, mileage, and fuel_liters. Provide\n",
    "drive(km, km_per_liter) which increments mileage and decreases fuel (never below 0) and refuel(liters). Show how inheritance avoids duplication and add\n",
    "a method override in Truck (e.g., different efficiency). Include a minimal test\n",
    "script.\n",
    "\n",
    "Prompt\n",
    "Design classes Vehicle (base), Car, and Truck (children).\n",
    "Each has color, mileage, and fuel_liters.\n",
    "Add:\n",
    "drive(km, km_per_liter) → increases mileage and reduces fuel (not below 0)\n",
    "refuel(liters) → adds fuel\n",
    "Show inheritance reuse and override a method in Truck (e.g., less efficient).\n",
    "Include a minimal test script.\n",
    "\n",
    "ChatGPT code (original)\"\"\"\n",
    "class Vehicle:\n",
    "    def __init__(self, color, mileage, fuel_liters):\n",
    "        self.color = color\n",
    "        self.mileage = mileage\n",
    "        self.fuel_liters = fuel_liters\n",
    "\n",
    "    def drive(self, km, km_per_liter):\n",
    "        needed = km / km_per_liter\n",
    "        if needed <= self.fuel_liters:\n",
    "            self.mileage += km\n",
    "            self.fuel_liters -= needed\n",
    "        else:\n",
    "            self.mileage += self.fuel_liters * km_per_liter\n",
    "            self.fuel_liters = 0\n",
    "\n",
    "    def refuel(self, liters):\n",
    "        self.fuel_liters += liters\n",
    "\n",
    "\n",
    "class Car(Vehicle):\n",
    "    pass\n",
    "\n",
    "\n",
    "class Truck(Vehicle):\n",
    "    def drive(self, km, km_per_liter):\n",
    "        # trucks are less efficient\n",
    "        super().drive(km, km_per_liter * 0.8)\n",
    "\n",
    "\n",
    "v = Car(\"blue\", 10000, 50)\n",
    "v.drive(100, 10)\n",
    "print(v.mileage, v.fuel_liters)\n"
   ]
  },
  {
   "cell_type": "code",
   "execution_count": 38,
   "id": "2d6414a1-8403-4d70-9bdb-9a2ab304759a",
   "metadata": {},
   "outputs": [
    {
     "name": "stdout",
     "output_type": "stream",
     "text": [
      "Car mileage: 20100, fuel: 30.00\n",
      "Truck mileage: 50100, fuel: 47.50\n"
     ]
    }
   ],
   "source": [
    "\"\"\"Critique\n",
    "Correctness: Works well; drives and refuels properly, and Truck override works.\n",
    "\n",
    "Complexity: O(1) — simple arithmetic operations.\n",
    "\n",
    "Robustness: No input checks; could add guards for negatives or invalid data.\n",
    "\n",
    "Readability: Easy to follow; missing docstrings and comments.\n",
    "\n",
    "Faithfulness: Matches lecture OOP lessons — clear class hierarchy and method override (Truck efficiency example).\n",
    "\n",
    "Improved Code\"\"\"\n",
    "class Vehicle:\n",
    "    \"\"\"Base class for vehicles with color, mileage, and fuel.\"\"\"\n",
    "    def __init__(self, color: str, mileage: float, fuel_liters: float):\n",
    "        self.color = color\n",
    "        self.mileage = mileage\n",
    "        self.fuel_liters = fuel_liters\n",
    "\n",
    "    def drive(self, km: float, km_per_liter: float):\n",
    "        \"\"\"Drive and reduce fuel accordingly (never below 0).\"\"\"\n",
    "        if km < 0 or km_per_liter <= 0:\n",
    "            raise ValueError(\"Invalid distance or efficiency.\")\n",
    "        needed = km / km_per_liter\n",
    "        if needed <= self.fuel_liters:\n",
    "            self.mileage += km\n",
    "            self.fuel_liters -= needed\n",
    "        else:\n",
    "            self.mileage += self.fuel_liters * km_per_liter\n",
    "            self.fuel_liters = 0\n",
    "\n",
    "    def refuel(self, liters: float):\n",
    "        if liters < 0:\n",
    "            raise ValueError(\"Cannot refuel negative liters.\")\n",
    "        self.fuel_liters += liters\n",
    "\n",
    "\n",
    "class Car(Vehicle):\n",
    "    \"\"\"Car inherits Vehicle without changes.\"\"\"\n",
    "    pass\n",
    "\n",
    "\n",
    "class Truck(Vehicle):\n",
    "    \"\"\"Truck overrides drive (less fuel efficient).\"\"\"\n",
    "    def drive(self, km: float, km_per_liter: float):\n",
    "        super().drive(km, km_per_liter * 0.8)  # 20% less efficient\n",
    "\n",
    "\n",
    "if __name__ == \"__main__\":\n",
    "    car = Car(\"red\", 20000, 40)\n",
    "    car.drive(100, 10)\n",
    "    print(f\"Car mileage: {car.mileage}, fuel: {car.fuel_liters:.2f}\")\n",
    "\n",
    "    truck = Truck(\"black\", 50000, 60)\n",
    "    truck.drive(100, 10)\n",
    "    print(f\"Truck mileage: {truck.mileage}, fuel: {truck.fuel_liters:.2f}\")"
   ]
  },
  {
   "cell_type": "markdown",
   "id": "80313dfc-5030-46d2-ac63-7a2390f16021",
   "metadata": {},
   "source": [
    "# Question 8"
   ]
  },
  {
   "cell_type": "code",
   "execution_count": 39,
   "id": "5505f973-5d4b-4d16-8a2d-c4776a59c554",
   "metadata": {},
   "outputs": [
    {
     "name": "stdout",
     "output_type": "stream",
     "text": [
      "Rocky\n"
     ]
    }
   ],
   "source": [
    "\"\"\"\n",
    "Task:\n",
    " OOP + Composition: Kennel with Dogs. Using a Dog class (name, age, breed,\n",
    "bark()), implement a Kennel manager that holds multiple Dog instances, supports\n",
    "add_dog, remove_dog, oldest_dog(), and find_by_breed(breed). Compare composition vs. inheritance for this scenario.\n",
    "\n",
    "Prompt\n",
    "Use a Dog class (name, age, breed, bark()) and a Kennel class that manages many dogs.\n",
    "Kennel should support:\n",
    "add_dog(dog)\n",
    "remove_dog(name)\n",
    "oldest_dog()\n",
    "find_by_breed(breed)\n",
    "Explain why composition (Kennel has Dogs) is better than inheritance here.\n",
    "\n",
    "ChatGPT code (original)\"\"\"\n",
    "class Dog:\n",
    "    def __init__(self, name, age, breed):\n",
    "        self.name = name\n",
    "        self.age = age\n",
    "        self.breed = breed\n",
    "\n",
    "    def bark(self):\n",
    "        return f\"{self.name} says Woof!\"\n",
    "\n",
    "\n",
    "class Kennel:\n",
    "    def __init__(self):\n",
    "        self.dogs = []\n",
    "\n",
    "    def add_dog(self, dog):\n",
    "        self.dogs.append(dog)\n",
    "\n",
    "    def remove_dog(self, name):\n",
    "        self.dogs = [d for d in self.dogs if d.name != name]\n",
    "\n",
    "    def oldest_dog(self):\n",
    "        return max(self.dogs, key=lambda d: d.age, default=None)\n",
    "\n",
    "    def find_by_breed(self, breed):\n",
    "        return [d for d in self.dogs if d.breed == breed]\n",
    "\n",
    "\n",
    "k = Kennel()\n",
    "k.add_dog(Dog(\"Buddy\", 5, \"Beagle\"))\n",
    "k.add_dog(Dog(\"Rocky\", 7, \"Labrador\"))\n",
    "print(k.oldest_dog().name)"
   ]
  },
  {
   "cell_type": "code",
   "execution_count": 40,
   "id": "639cdd7c-f443-4474-afc7-e4100cc87041",
   "metadata": {},
   "outputs": [
    {
     "name": "stdout",
     "output_type": "stream",
     "text": [
      "Rocky\n",
      "['Buddy', 'Milo']\n"
     ]
    }
   ],
   "source": [
    "\"\"\"Critique\n",
    "Correctness: Works as intended — can add, remove, and find dogs correctly.\n",
    "\n",
    "Complexity: O(n) for searches; fine for small lists.\n",
    "\n",
    "Robustness: No error handling for empty kennel; uses default=None safely.\n",
    "\n",
    "Readability: Clear and easy to follow; could add docstrings.\n",
    "\n",
    "Faithfulness: Matches lecture OOP design — uses composition, not inheritance, for “has-a” relationships.\n",
    "\n",
    "Improved Code\"\"\"\n",
    "class Dog:\n",
    "    \"\"\"Represents a dog with a name, age, and breed.\"\"\"\n",
    "    def __init__(self, name: str, age: int, breed: str):\n",
    "        self.name = name\n",
    "        self.age = age\n",
    "        self.breed = breed\n",
    "\n",
    "    def bark(self) -> str:\n",
    "        return f\"{self.name} says Woof!\"\n",
    "\n",
    "\n",
    "class Kennel:\n",
    "    \"\"\"A kennel that manages multiple Dog instances.\"\"\"\n",
    "    def __init__(self):\n",
    "        self.dogs = []\n",
    "\n",
    "    def add_dog(self, dog: Dog):\n",
    "        self.dogs.append(dog)\n",
    "\n",
    "    def remove_dog(self, name: str):\n",
    "        self.dogs = [d for d in self.dogs if d.name != name]\n",
    "\n",
    "    def oldest_dog(self):\n",
    "        return max(self.dogs, key=lambda d: d.age, default=None)\n",
    "\n",
    "    def find_by_breed(self, breed: str):\n",
    "        return [d for d in self.dogs if d.breed.lower() == breed.lower()]\n",
    "\n",
    "\n",
    "if __name__ == \"__main__\":\n",
    "    kennel = Kennel()\n",
    "    kennel.add_dog(Dog(\"Buddy\", 5, \"Beagle\"))\n",
    "    kennel.add_dog(Dog(\"Rocky\", 7, \"Labrador\"))\n",
    "    kennel.add_dog(Dog(\"Milo\", 3, \"Beagle\"))\n",
    "\n",
    "    print(kennel.oldest_dog().name)      # Rocky\n",
    "    print([d.name for d in kennel.find_by_breed(\"Beagle\")])  # ['Buddy', 'Milo']"
   ]
  },
  {
   "cell_type": "markdown",
   "id": "abd65356-08d9-40cc-a1dc-54170ec268ea",
   "metadata": {},
   "source": [
    "# Question 9"
   ]
  },
  {
   "cell_type": "code",
   "execution_count": 41,
   "id": "df375ebc-0f6b-43f9-a8e8-f5d9bdef619f",
   "metadata": {},
   "outputs": [],
   "source": [
    "\"\"\"\n",
    "Task:\n",
    "Modules and Packages: Helpers. Create a package helpers/ with modules\n",
    "string_utils.py (function shout(s) uppercases) and math_utils.py (function area(l,w)).\n",
    "Then a main.py that imports with both import ... as ... and from ...\n",
    "import .... Explain namespace collisions and why aliases help.\n",
    "\n",
    "Prompt\n",
    "Make a package called helpers/ with two modules:\n",
    "string_utils.py → defines shout(s) that returns the string in uppercase\n",
    "math_utils.py → defines area(l, w) that returns l * w\n",
    "Then make a main.py that imports both using import ... as ... and from ... import ....\n",
    "Explain namespace collisions and how aliases (as) help avoid them.\n",
    "\n",
    "ChatGPT code (original)\"\"\"\n",
    "helpers/string_utils.py\n",
    "def shout(s):\n",
    "    return s.upper()\n",
    "helpers/math_utils.py\n",
    "def area(l, w):\n",
    "    return l * w\n",
    "main.py\n",
    "import helpers.string_utils as su\n",
    "from helpers.math_utils import area\n",
    "\n",
    "print(su.shout(\"hello\"))\n",
    "print(area(5, 10))\n"
   ]
  },
  {
   "cell_type": "code",
   "execution_count": 49,
   "id": "d05c6fc0-f590-414f-8ede-a6948ed19afa",
   "metadata": {},
   "outputs": [
    {
     "name": "stdout",
     "output_type": "stream",
     "text": [
      "MODULES ARE FUN SOMETIMES!\n",
      "Area: 20\n"
     ]
    }
   ],
   "source": [
    "\"\"\"Critique\n",
    "Correctness: Works perfectly — modules and imports are valid.\n",
    "\n",
    "Complexity: O(1); simple operations.\n",
    "\n",
    "Robustness: Fine for demo; could add input checks in area().\n",
    "\n",
    "Readability: Clear names; code separated well by module.\n",
    "\n",
    "Faithfulness: Matches lecture notes on import, aliasing, and namespaces\n",
    "\n",
    "Improved Code\"\"\"\n",
    "import helpers.string_utils as su\n",
    "from helpers.math_utils import area\n",
    "\n",
    "def main():\n",
    "    print(su.shout(\"modules are fun sometimes!\"))\n",
    "    print(\"Area:\", area(4, 5))\n",
    "\n",
    "main()"
   ]
  },
  {
   "cell_type": "markdown",
   "id": "1193718b-5de1-4b36-a885-80749ff97b1d",
   "metadata": {},
   "source": [
    "# Question 10"
   ]
  },
  {
   "cell_type": "code",
   "execution_count": 43,
   "id": "35566e4a-1461-41e8-9fd5-3fe59f8b1915",
   "metadata": {},
   "outputs": [
    {
     "name": "stdin",
     "output_type": "stream",
     "text": [
      "Convert (C2F or F2C):  C2F\n",
      "Enter Celsius:  27\n"
     ]
    },
    {
     "name": "stdout",
     "output_type": "stream",
     "text": [
      "80.6\n"
     ]
    }
   ],
   "source": [
    "\"\"\"\n",
    "Task:\n",
    "Robust Temperature Converter (Functions + Exceptions). Write two functions: cel_to_far(c) and far_to_cel(f) with type hints and docstrings. Build a\n",
    "CLI that asks the user which direction to convert and validates input (gracefully\n",
    "handles bad entries). Include unit tests (doctest or simple asserts) covering typical and edge cases (e.g., -40).\n",
    "\n",
    "Prompt\n",
    "Write two functions: cel_to_far(c) and far_to_cel(f) with type hints and docstrings. Build a CLI that asks the user which direction to convert and validates input (gracefully handles bad entries). Include unit tests (doctest or simple asserts) covering typical and edge cases (e.g., -40).\n",
    "\n",
    "ChatGPT code (original)\"\"\"\n",
    "def cel_to_far(c):\n",
    "    return c * 9/5 + 32\n",
    "\n",
    "def far_to_cel(f):\n",
    "    return (f - 32) * 5/9\n",
    "\n",
    "choice = input(\"Convert (C2F or F2C): \")\n",
    "if choice == \"C2F\":\n",
    "    c = float(input(\"Enter Celsius: \"))\n",
    "    print(cel_to_far(c))\n",
    "elif choice == \"F2C\":\n",
    "    f = float(input(\"Enter Fahrenheit: \"))\n",
    "    print(far_to_cel(f))\n",
    "else:\n",
    "    print(\"Invalid choice\")"
   ]
  },
  {
   "cell_type": "code",
   "execution_count": 45,
   "id": "14456d50-bf9d-4479-9844-b350ba395d44",
   "metadata": {},
   "outputs": [
    {
     "name": "stdout",
     "output_type": "stream",
     "text": [
      "All tests passed.\n",
      "Temperature Converter\n",
      "Type C2F to convert Celsius->Fahrenheit, F2C for Fahrenheit->Celsius.\n"
     ]
    },
    {
     "name": "stdin",
     "output_type": "stream",
     "text": [
      "Convert (C2F/F2C):  C2F\n",
      "Enter Celsius:  27\n"
     ]
    },
    {
     "name": "stdout",
     "output_type": "stream",
     "text": [
      "27.0 °C = 80.60 °F\n"
     ]
    }
   ],
   "source": [
    "\"\"\"Critique\n",
    "Correctness: Formulas are right; directions work.\n",
    "\n",
    "Complexity: O(1).\n",
    "\n",
    "Robustness: No try/except; will crash on bad input. No type hints or docstrings as requested. No tests.\n",
    "\n",
    "Readability: Simple, but needs function docs, hints, clearer messages.\n",
    "\n",
    "Faithfulness: Partially matches lectures (functions & input) but missing docstrings and exception handling.\n",
    "\n",
    "Improved Code\"\"\"\n",
    "from typing import Union\n",
    "\n",
    "Number = Union[int, float]\n",
    "\n",
    "def cel_to_far(c: Number) -> float:\n",
    "    \"\"\"Convert Celsius to Fahrenheit.\n",
    "\n",
    "    Formula: F = C * 9/5 + 32\n",
    "    Examples (doctest):\n",
    "    >>> round(cel_to_far(0), 2)\n",
    "    32.0\n",
    "    >>> round(cel_to_far(-40), 2)  # edge where C == F\n",
    "    -40.0\n",
    "    \"\"\"\n",
    "    return float(c) * 9.0/5.0 + 32.0\n",
    "\n",
    "\n",
    "def far_to_cel(f: Number) -> float:\n",
    "    \"\"\"Convert Fahrenheit to Celsius.\n",
    "\n",
    "    Formula: C = (F - 32) * 5/9\n",
    "    Examples (doctest):\n",
    "    >>> round(far_to_cel(32), 2)\n",
    "    0.0\n",
    "    >>> round(far_to_cel(-40), 2)  # edge where C == F\n",
    "    -40.0\n",
    "    \"\"\"\n",
    "    return (float(f) - 32.0) * 5.0/9.0\n",
    "\n",
    "\n",
    "def run_cli() -> None:\n",
    "    \"\"\"Interactive CLI with input validation and graceful errors.\"\"\"\n",
    "    print(\"Temperature Converter\")\n",
    "    print(\"Type C2F to convert Celsius->Fahrenheit, F2C for Fahrenheit->Celsius.\")\n",
    "    choice = input(\"Convert (C2F/F2C): \").strip().upper()\n",
    "\n",
    "    try:\n",
    "        if choice == \"C2F\":\n",
    "            c_str = input(\"Enter Celsius: \").strip()\n",
    "            c_val = float(c_str)  # may raise ValueError\n",
    "            print(f\"{c_val} °C = {cel_to_far(c_val):.2f} °F\")\n",
    "        elif choice == \"F2C\":\n",
    "            f_str = input(\"Enter Fahrenheit: \").strip()\n",
    "            f_val = float(f_str)\n",
    "            print(f\"{f_val} °F = {far_to_cel(f_val):.2f} °C\")\n",
    "        else:\n",
    "            print(\"Invalid choice. Please enter C2F or F2C.\")\n",
    "    except ValueError:\n",
    "        # Graceful handling of bad numeric input (per lectures)\n",
    "        print(\"Error: please enter a valid number.\")\n",
    "\n",
    "\n",
    "if __name__ == \"__main__\":\n",
    "    # Simple unit tests (asserts)\n",
    "    assert round(cel_to_far(0), 2) == 32.00\n",
    "    assert round(cel_to_far(-40), 2) == -40.00  # meeting edge case\n",
    "    assert round(far_to_cel(32), 2) == 0.00\n",
    "    assert round(far_to_cel(-40), 2) == -40.00  # meeting edge case\n",
    "\n",
    "    print(\"All tests passed.\")\n",
    "    run_cli()"
   ]
  },
  {
   "cell_type": "code",
   "execution_count": null,
   "id": "548d50ed-0802-499c-b5c6-d35efdae9806",
   "metadata": {},
   "outputs": [],
   "source": []
  }
 ],
 "metadata": {
  "kernelspec": {
   "display_name": "Python [conda env:base] *",
   "language": "python",
   "name": "conda-base-py"
  },
  "language_info": {
   "codemirror_mode": {
    "name": "ipython",
    "version": 3
   },
   "file_extension": ".py",
   "mimetype": "text/x-python",
   "name": "python",
   "nbconvert_exporter": "python",
   "pygments_lexer": "ipython3",
   "version": "3.13.5"
  }
 },
 "nbformat": 4,
 "nbformat_minor": 5
}
